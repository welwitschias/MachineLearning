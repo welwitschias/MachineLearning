{
 "cells": [
  {
   "cell_type": "code",
   "execution_count": 2,
   "id": "dc9a7776-9779-4446-91cb-04f6494f0dd6",
   "metadata": {},
   "outputs": [],
   "source": [
    "import numpy as np"
   ]
  },
  {
   "cell_type": "code",
   "execution_count": 3,
   "id": "12a1d4bc-e03a-45e9-b4bc-3981f08daf6a",
   "metadata": {},
   "outputs": [
    {
     "data": {
      "text/plain": [
       "array([[ 73.,  80.,  75., 152.],\n",
       "       [ 93.,  88.,  93., 185.],\n",
       "       [ 89.,  91.,  90., 180.],\n",
       "       [ 96.,  98., 100., 196.],\n",
       "       [ 73.,  66.,  70., 142.],\n",
       "       [ 53.,  46.,  55., 101.],\n",
       "       [ 69.,  74.,  77., 149.],\n",
       "       [ 47.,  56.,  60., 115.],\n",
       "       [ 87.,  79.,  90., 175.],\n",
       "       [ 79.,  70.,  88., 164.],\n",
       "       [ 69.,  70.,  73., 141.],\n",
       "       [ 70.,  65.,  74., 141.],\n",
       "       [ 93.,  95.,  91., 184.],\n",
       "       [ 79.,  80.,  73., 152.],\n",
       "       [ 70.,  73.,  78., 148.],\n",
       "       [ 93.,  89.,  96., 192.],\n",
       "       [ 78.,  75.,  68., 147.],\n",
       "       [ 81.,  90.,  93., 183.],\n",
       "       [ 88.,  92.,  86., 177.],\n",
       "       [ 78.,  83.,  77., 159.],\n",
       "       [ 82.,  86.,  90., 177.],\n",
       "       [ 86.,  82.,  89., 175.],\n",
       "       [ 78.,  83.,  85., 175.],\n",
       "       [ 76.,  83.,  71., 149.],\n",
       "       [ 96.,  93.,  95., 192.]], dtype=float32)"
      ]
     },
     "execution_count": 3,
     "metadata": {},
     "output_type": "execute_result"
    }
   ],
   "source": [
    "load_data = np.loadtxt(\"data/data-01-test-score.csv\",\n",
    "                       delimiter=\",\", dtype=np.float32)\n",
    "load_data"
   ]
  },
  {
   "cell_type": "code",
   "execution_count": 4,
   "id": "9dcbfeaa-2f1d-4a8a-bc8b-0e4e04f7e23d",
   "metadata": {},
   "outputs": [
    {
     "name": "stdout",
     "output_type": "stream",
     "text": [
      "x_data = [[ 73.  80.  75.]\n",
      " [ 93.  88.  93.]\n",
      " [ 89.  91.  90.]\n",
      " [ 96.  98. 100.]\n",
      " [ 73.  66.  70.]\n",
      " [ 53.  46.  55.]\n",
      " [ 69.  74.  77.]\n",
      " [ 47.  56.  60.]\n",
      " [ 87.  79.  90.]\n",
      " [ 79.  70.  88.]\n",
      " [ 69.  70.  73.]\n",
      " [ 70.  65.  74.]\n",
      " [ 93.  95.  91.]\n",
      " [ 79.  80.  73.]\n",
      " [ 70.  73.  78.]\n",
      " [ 93.  89.  96.]\n",
      " [ 78.  75.  68.]\n",
      " [ 81.  90.  93.]\n",
      " [ 88.  92.  86.]\n",
      " [ 78.  83.  77.]\n",
      " [ 82.  86.  90.]\n",
      " [ 86.  82.  89.]\n",
      " [ 78.  83.  85.]\n",
      " [ 76.  83.  71.]\n",
      " [ 96.  93.  95.]]\n",
      "t_data = [[152.]\n",
      " [185.]\n",
      " [180.]\n",
      " [196.]\n",
      " [142.]\n",
      " [101.]\n",
      " [149.]\n",
      " [115.]\n",
      " [175.]\n",
      " [164.]\n",
      " [141.]\n",
      " [141.]\n",
      " [184.]\n",
      " [152.]\n",
      " [148.]\n",
      " [192.]\n",
      " [147.]\n",
      " [183.]\n",
      " [177.]\n",
      " [159.]\n",
      " [177.]\n",
      " [175.]\n",
      " [175.]\n",
      " [149.]\n",
      " [192.]]\n"
     ]
    }
   ],
   "source": [
    "x_data = load_data[:, :-1]\n",
    "t_data = load_data[:, [-1]]\n",
    "print(\"x_data =\", x_data)\n",
    "print(\"t_data =\", t_data)"
   ]
  },
  {
   "cell_type": "code",
   "execution_count": 5,
   "id": "a9f75d2c-2c76-46e8-9651-620982ea12c7",
   "metadata": {},
   "outputs": [
    {
     "name": "stdout",
     "output_type": "stream",
     "text": [
      "W = [[0.64074068]\n",
      " [0.20409949]\n",
      " [0.2620139 ]] , b = [0.03662858]\n"
     ]
    }
   ],
   "source": [
    "W = np.random.rand(3, 1)\n",
    "b = np.random.rand(1)\n",
    "print(\"W =\", W, \", b =\", b)"
   ]
  },
  {
   "cell_type": "code",
   "execution_count": 6,
   "id": "b4e4275a-444b-4383-b18c-f46e88e47963",
   "metadata": {},
   "outputs": [],
   "source": [
    "def loss_func(x, t):\n",
    "    y = np.dot(x, W) + b\n",
    "    return (np.sum((t - y)**2))/len(x)"
   ]
  },
  {
   "cell_type": "code",
   "execution_count": 7,
   "id": "a9defc49-a7b7-4b81-a4f4-a7ba41d098c0",
   "metadata": {},
   "outputs": [],
   "source": [
    "def numerical_derivative(f, x):\n",
    "    delta_x = 1e-4\n",
    "    grad = np.zeros_like(x)\n",
    "\n",
    "    it = np.nditer(x, flags=['multi_index'], op_flags=['readwrite'])\n",
    "    while not it.finished:\n",
    "        idx = it.multi_index\n",
    "        \n",
    "        tmp_val = x[idx]\n",
    "        x[idx] = float(tmp_val) + delta_x\n",
    "        fx1 = f(x)\n",
    "        \n",
    "        x[idx] = float(tmp_val) - delta_x\n",
    "        fx2 = f(x)\n",
    "        \n",
    "        grad[idx] = (fx1 - fx2) / (2 * delta_x)\n",
    "        \n",
    "        x[idx] = tmp_val\n",
    "        it.iternext()\n",
    "\n",
    "    return grad"
   ]
  },
  {
   "cell_type": "code",
   "execution_count": 8,
   "id": "73bb979e-23c7-4a63-ae93-5bce06fdf7bb",
   "metadata": {},
   "outputs": [],
   "source": [
    "def predict(x):\n",
    "    y = np.dot(x, W) + b\n",
    "    return y"
   ]
  },
  {
   "cell_type": "code",
   "execution_count": 9,
   "id": "810dcb0c-0ea2-4ed5-9be1-bfd79b16b61b",
   "metadata": {},
   "outputs": [
    {
     "name": "stdout",
     "output_type": "stream",
     "text": [
      "initial error value = 5572.137671194481 , initial W = [[0.64074068]\n",
      " [0.20409949]\n",
      " [0.2620139 ]] , initial b = [0.03662858]\n",
      "step = 0 , error value = 5145.11960759582 , W = [[0.65263686]\n",
      " [0.21607127]\n",
      " [0.27428949]] , b = [0.03677038]\n",
      "step = 4000 , error value = 13.658135227680761 , W = [[0.88749011]\n",
      " [0.49247387]\n",
      " [0.64705863]] , b = [0.04019603]\n",
      "step = 8000 , error value = 11.985520545707965 , W = [[0.83597709]\n",
      " [0.48003665]\n",
      " [0.7092774 ]] , b = [0.04006507]\n",
      "step = 12000 , error value = 10.70707558035983 , W = [[0.7895202 ]\n",
      " [0.47139365]\n",
      " [0.76287539]] , b = [0.03986457]\n",
      "step = 16000 , error value = 9.72410683305132 , W = [[0.74761302]\n",
      " [0.46575867]\n",
      " [0.80911299]] , b = [0.03960405]\n",
      "step = 20000 , error value = 8.963965566744903 , W = [[0.70980144]\n",
      " [0.46248954]\n",
      " [0.84905892]] , b = [0.03929167]\n",
      "step = 24000 , error value = 8.37288594670042 , W = [[0.67567803]\n",
      " [0.46106319]\n",
      " [0.88362023]] , b = [0.0389344]\n",
      "step = 28000 , error value = 7.9108518959036624 , W = [[0.64487703]\n",
      " [0.46105485]\n",
      " [0.9135674 ]] , b = [0.03853823]\n",
      "step = 32000 , error value = 7.547906300953113 , W = [[0.61706991]\n",
      " [0.46212079]\n",
      " [0.93955556]] , b = [0.03810829]\n",
      "step = 36000 , error value = 7.26148792130729 , W = [[0.59196143]\n",
      " [0.46398398]\n",
      " [0.96214228]] , b = [0.03764901]\n",
      "step = 40000 , error value = 7.034502364485357 , W = [[0.56928613]\n",
      " [0.46642226]\n",
      " [0.98180262]] , b = [0.03716417]\n",
      "step = 44000 , error value = 6.853918843524949 , W = [[0.54880524]\n",
      " [0.46925841]\n",
      " [0.99894178]] , b = [0.03665707]\n",
      "step = 48000 , error value = 6.709744700232639 , W = [[0.5303039 ]\n",
      " [0.47235202]\n",
      " [1.01390573]] , b = [0.03613052]\n",
      "step = 52000 , error value = 6.594272283215246 , W = [[0.51358867]\n",
      " [0.47559276]\n",
      " [1.02699025]] , b = [0.03558698]\n",
      "step = 56000 , error value = 6.5015229311370755 , W = [[0.49848537]\n",
      " [0.47889477]\n",
      " [1.03844852]] , b = [0.03502855]\n",
      "step = 60000 , error value = 6.426834197656053 , W = [[0.48483707]\n",
      " [0.48219206]\n",
      " [1.04849749]] , b = [0.03445709]\n",
      "step = 64000 , error value = 6.366551645783979 , W = [[0.47250238]\n",
      " [0.48543471]\n",
      " [1.05732335]] , b = [0.03387417]\n",
      "step = 68000 , error value = 6.3177973526565685 , W = [[0.46135382]\n",
      " [0.48858578]\n",
      " [1.06508608]] , b = [0.0332812]\n",
      "step = 72000 , error value = 6.2782949806072565 , W = [[0.45127646]\n",
      " [0.49161867]\n",
      " [1.07192334]] , b = [0.03267936]\n",
      "step = 76000 , error value = 6.24623678929245 , W = [[0.44216665]\n",
      " [0.4945151 ]\n",
      " [1.07795372]] , b = [0.03206973]\n",
      "step = 80000 , error value = 6.2201819231957565 , W = [[0.43393089]\n",
      " [0.4972633 ]\n",
      " [1.08327959]] , b = [0.03145322]\n",
      "step = 84000 , error value = 6.198978159041551 , W = [[0.4264848 ]\n",
      " [0.49985669]\n",
      " [1.08798937]] , b = [0.03083064]\n",
      "step = 88000 , error value = 6.18170135679096 , W = [[0.41975223]\n",
      " [0.50229264]\n",
      " [1.0921596 ]] , b = [0.03020269]\n",
      "step = 92000 , error value = 6.167608351486961 , W = [[0.41366446]\n",
      " [0.50457164]\n",
      " [1.09585663]] , b = [0.02956999]\n",
      "step = 96000 , error value = 6.156100111329956 , W = [[0.40815943]\n",
      " [0.50669646]\n",
      " [1.09913802]] , b = [0.02893308]\n",
      "step = 100000 , error value = 6.146692783830641 , W = [[0.40318111]\n",
      " [0.50867161]\n",
      " [1.10205384]] , b = [0.02829245]\n"
     ]
    }
   ],
   "source": [
    "learning_rate = 1e-6  # 발산 정도에 따라 3~6 사이 적절하게 조절\n",
    "def f(x): return loss_func(x_data, t_data)\n",
    "\n",
    "\n",
    "print(\"initial error value =\", loss_func(x_data, t_data),\n",
    "      \", initial W =\", W, \", initial b =\", b)\n",
    "\n",
    "for step in range(100001):\n",
    "    W -= learning_rate * numerical_derivative(f, W)\n",
    "    b -= learning_rate * numerical_derivative(f, b)\n",
    "\n",
    "    if step % 4000 == 0:  # 4000번마다 출력\n",
    "        print(\"step =\", step, \", error value =\", loss_func(x_data, t_data),\n",
    "              \", W =\", W, \", b =\", b)"
   ]
  }
 ],
 "metadata": {
  "kernelspec": {
   "display_name": "Python 3",
   "language": "python",
   "name": "python3"
  },
  "language_info": {
   "codemirror_mode": {
    "name": "ipython",
    "version": 3
   },
   "file_extension": ".py",
   "mimetype": "text/x-python",
   "name": "python",
   "nbconvert_exporter": "python",
   "pygments_lexer": "ipython3",
   "version": "3.8.8"
  },
  "vscode": {
   "interpreter": {
    "hash": "610a6f344c2137faf927ea819c63f6cee33a2c04455044b28099f39fe9722347"
   }
  }
 },
 "nbformat": 4,
 "nbformat_minor": 5
}
