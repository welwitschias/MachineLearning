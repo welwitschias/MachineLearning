{
 "cells": [
  {
   "cell_type": "code",
   "execution_count": null,
   "metadata": {},
   "outputs": [],
   "source": [
    "import numpy as np\n",
    "import matplotlib.pyplot as plt\n",
    "\n",
    "from keras.datasets import cifar10\n",
    "from keras.models import Sequential\n",
    "from keras.layers import Flatten, Dense, Conv2D, MaxPooling2D, Dropout\n",
    "from keras.optimizers import Adam\n",
    "from keras.callbacks import ModelCheckpoint, EarlyStopping\n",
    "from keras.preprocessing.image import ImageDataGenerator\n",
    "\n",
    "from datetime import datetime"
   ]
  },
  {
   "cell_type": "code",
   "execution_count": null,
   "metadata": {},
   "outputs": [],
   "source": [
    "gen = ImageDataGenerator(rotation_range=15, shear_range=0.1,\n",
    "                         width_shift_range=0.2, height_shift_range=0.2, horizontal_flip=True)"
   ]
  },
  {
   "cell_type": "code",
   "execution_count": null,
   "metadata": {},
   "outputs": [],
   "source": [
    "# CIFAR-10 dataset을 읽고 신경망에 입력할 형태로 변환\n",
    "(x_train, y_train), (x_test, y_test) = cifar10.load_data()\n",
    "x_train = x_train.astype(np.float32) / 255.0\n",
    "x_test = x_test.astype(np.float32) / 255.0"
   ]
  },
  {
   "cell_type": "code",
   "execution_count": null,
   "metadata": {},
   "outputs": [],
   "source": [
    "# 보강할 학습데이터 이미지 생성\n",
    "augment_ratio = 1.5\n",
    "augment_size = int(augment_ratio * x_train.shape[0])\n",
    "print(augment_size)\n",
    "\n",
    "# 전체 x_train 갯수의 150% 비율 만큼\n",
    "randidx = np.random.randint(x_train.shape[0], size=augment_size)\n",
    "\n",
    "# 임의로 선택된 데이터는 원본 데이터를 참조하기 때문에 원본 데이터에 영향을 줄 수 있음\n",
    "# copy() 함수로 안전하게 복사본 생성\n",
    "x_augmented = x_train[randidx].copy()\n",
    "y_augmented = y_train[randidx].copy()\n",
    "print(x_augmented.shape, y_augmented.shape)\n",
    "\n",
    "# 이미지 보강 실행\n",
    "x_augmented, y_augmented = gen.flow(x_augmented, y_augmented,\n",
    "                                    batch_size=augment_size, shuffle=False).next()"
   ]
  },
  {
   "cell_type": "code",
   "execution_count": null,
   "metadata": {},
   "outputs": [],
   "source": [
    "# x_train, y_train에 보강된 데이터(튜플로) 추가\n",
    "x_train = np.concatenate((x_train, x_augmented))\n",
    "y_train = np.concatenate((y_train, y_augmented))\n",
    "print(x_train.shape, y_train.shape)"
   ]
  },
  {
   "cell_type": "code",
   "execution_count": null,
   "metadata": {},
   "outputs": [],
   "source": [
    "cnn = Sequential()\n",
    "cnn.add(Conv2D(filters=32, kernel_size=(3, 3), padding='same', activation='relu',\n",
    "               input_shape=(32, 32, 3)))\n",
    "cnn.add(Conv2D(filters=32, kernel_size=(3, 3), padding='same', activation='relu'))\n",
    "cnn.add(MaxPooling2D(pool_size=(2, 2)))\n",
    "cnn.add(Dropout(0.25))\n",
    "\n",
    "cnn.add(Conv2D(filters=64, kernel_size=(3, 3), padding='same', activation='relu'))\n",
    "cnn.add(Conv2D(filters=64, kernel_size=(3, 3), padding='same', activation='relu'))\n",
    "cnn.add(MaxPooling2D(pool_size=(2, 2)))\n",
    "cnn.add(Dropout(0.25))\n",
    "\n",
    "cnn.add(Conv2D(filters=128, kernel_size=(3, 3), padding='same', activation='relu'))\n",
    "cnn.add(Conv2D(filters=128, kernel_size=(3, 3), padding='same', activation='relu'))\n",
    "cnn.add(MaxPooling2D(pool_size=(2, 2)))\n",
    "cnn.add(Dropout(0.25))\n",
    "\n",
    "cnn.add(Conv2D(filters=256, kernel_size=(3, 3), padding='same', activation='relu'))\n",
    "cnn.add(MaxPooling2D(pool_size=(2, 2)))\n",
    "cnn.add(Dropout(0.25))\n",
    "\n",
    "cnn.add(Flatten())\n",
    "cnn.add(Dense(128, activation='relu'))\n",
    "cnn.add(Dropout(0.5))\n",
    "cnn.add(Dense(10, activation='softmax'))\n",
    "\n",
    "cnn.summary()"
   ]
  },
  {
   "cell_type": "code",
   "execution_count": null,
   "metadata": {},
   "outputs": [],
   "source": [
    "start_time = datetime.now()\n",
    "\n",
    "cnn.compile(loss='sparse_categorical_crossentropy',\n",
    "            optimizer=Adam(), metrics=['accuracy'])\n",
    "\n",
    "# 손실함수를 10 epochs 마다 검사하여 더 이상 줄어들지 않으면 종료\n",
    "# EarlyStopping(모니터링 값, 대기 epochs)\n",
    "early_stopping = EarlyStopping(monitor='val_loss', patience=10)\n",
    "\n",
    "# 학습 중인 모델을 자동 저장\n",
    "model_checkpoint = ModelCheckpoint(filepath='C:/python/machine/data/bast.h5',\n",
    "                                   monitor='val_loss',\n",
    "                                   save_base_only=True,\n",
    "                                   verbose=1)\n",
    "\n",
    "hist = cnn.fit(x_train, y_train, batch_size=256, epochs=250,\n",
    "               validation_data=(x_test, y_test), callbacks=[early_stopping, model_checkpoint])\n",
    "\n",
    "end_time = datetime.now()\n",
    "\n",
    "print('경과시간 =', end_time - start_time)"
   ]
  },
  {
   "cell_type": "code",
   "execution_count": null,
   "metadata": {},
   "outputs": [],
   "source": [
    "plt.title('loss')\n",
    "plt.xlabel('epoch')\n",
    "plt.ylabel('loss')\n",
    "plt.plot(hist.history['loss'], label='train loss')\n",
    "plt.plot(hist.history['val_loss'], label='validation loss')\n",
    "plt.legend(loc='best')\n",
    "plt.show()"
   ]
  },
  {
   "cell_type": "code",
   "execution_count": null,
   "metadata": {},
   "outputs": [],
   "source": [
    "plt.title('accuracy')\n",
    "plt.xlabel('epoch')\n",
    "plt.ylabel('accuracy')\n",
    "plt.plot(hist.history['accuracy'], label='train accuracy')\n",
    "plt.plot(hist.history['val_accuracy'], label='validation accuracy')\n",
    "plt.legend(loc='best')\n",
    "plt.show()"
   ]
  }
 ],
 "metadata": {
  "kernelspec": {
   "display_name": "Python 3.8.8 ('base')",
   "language": "python",
   "name": "python3"
  },
  "language_info": {
   "codemirror_mode": {
    "name": "ipython",
    "version": 3
   },
   "file_extension": ".py",
   "mimetype": "text/x-python",
   "name": "python",
   "nbconvert_exporter": "python",
   "pygments_lexer": "ipython3",
   "version": "3.8.8"
  },
  "orig_nbformat": 4,
  "vscode": {
   "interpreter": {
    "hash": "610a6f344c2137faf927ea819c63f6cee33a2c04455044b28099f39fe9722347"
   }
  }
 },
 "nbformat": 4,
 "nbformat_minor": 2
}
