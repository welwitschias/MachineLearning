{
 "cells": [
  {
   "cell_type": "code",
   "execution_count": 1,
   "id": "d3fdbd62-9c0c-48cc-8ca6-6cf602e9c8c6",
   "metadata": {},
   "outputs": [],
   "source": [
    "import numpy as np"
   ]
  },
  {
   "cell_type": "code",
   "execution_count": 2,
   "id": "bdcbcb6b-d2e2-40d8-b954-7726e44a1c17",
   "metadata": {},
   "outputs": [],
   "source": [
    "# y = x + 2 (W = 1, b = 2)\n",
    "x_data = np.array([1, 2, 3, 4, 5]).reshape(5, 1)\n",
    "t_data = np.array([3, 4, 5, 6, 7]).reshape(5, 1)"
   ]
  },
  {
   "cell_type": "code",
   "execution_count": 3,
   "id": "cbbca808-bbf0-4ae6-a7df-bee634c25b31",
   "metadata": {},
   "outputs": [
    {
     "name": "stdout",
     "output_type": "stream",
     "text": [
      "W= [[0.22078639]] b= [0.41146477]\n"
     ]
    }
   ],
   "source": [
    "W = np.random.rand(1, 1)\n",
    "b = np.random.rand(1)\n",
    "print(\"W =\", W, \", b =\", b)"
   ]
  },
  {
   "cell_type": "code",
   "execution_count": 4,
   "id": "3b5b6e7f-5735-4a98-b5a2-4436bfd264c0",
   "metadata": {},
   "outputs": [],
   "source": [
    "def loss_func(x, t):\n",
    "    y = np.dot(x, W) + b\n",
    "    return (np.sum((t - y)**2))/len(x)"
   ]
  },
  {
   "cell_type": "code",
   "execution_count": 5,
   "id": "bac73d50-32be-456b-995e-cd999f81b490",
   "metadata": {},
   "outputs": [],
   "source": [
    "def numerical_derivative(f, x):\n",
    "    delta_x = 1e-4\n",
    "    grad = np.zeros_like(x)\n",
    "#     print(\"initial x =\", x)\n",
    "#     print(\"initial grad =\", grad)\n",
    "#     print(\"=\"*50)\n",
    "\n",
    "    it = np.nditer(x, flags=['multi_index'], op_flags=['readwrite'])\n",
    "    while not it.finished:\n",
    "        idx = it.multi_index\n",
    "#         print(\"idx =\", idx, \", x[idx] =\", x[idx])\n",
    "        \n",
    "        tmp_val = x[idx]\n",
    "        x[idx] = float(tmp_val) + delta_x\n",
    "        fx1 = f(x)\n",
    "        \n",
    "        x[idx] = float(tmp_val) - delta_x\n",
    "        fx2 = f(x)\n",
    "        \n",
    "        grad[idx] = (fx1 - fx2) / (2 * delta_x)\n",
    "#         print(\"grad[idx] =\", grad[idx])\n",
    "#         print(\"grad =\", grad)\n",
    "#         print(\"=\"*50)\n",
    "        \n",
    "        x[idx] = tmp_val\n",
    "        it.iternext()\n",
    "\n",
    "    return grad"
   ]
  },
  {
   "cell_type": "code",
   "execution_count": 6,
   "id": "a8697be4-a9a3-4387-960a-75fa388ef92d",
   "metadata": {},
   "outputs": [],
   "source": [
    "def predict(x):\n",
    "    y = np.dot(x, W) + b\n",
    "    return y"
   ]
  },
  {
   "cell_type": "code",
   "execution_count": 7,
   "id": "4d9b54b5-173c-423e-9c5e-42c289e465ac",
   "metadata": {},
   "outputs": [
    {
     "name": "stdout",
     "output_type": "stream",
     "text": [
      "initial error value = 16.629206143955948 , initial W = [[0.22078639]] , initial b = [0.41146477]\n",
      "step = 0 , error value = 9.909922170322227 , W = [[0.4875255]] , b = [0.47398394]\n",
      "step = 400 , error value = 0.02070913644619054 , W = [[1.09344966]] , b = [1.66269965]\n",
      "step = 800 , error value = 0.00132136533711885 , W = [[1.02360523]] , b = [1.9147985]\n",
      "step = 1200 , error value = 8.43109203841485e-05 , W = [[1.00596264]] , b = [1.97847824]\n",
      "step = 1600 , error value = 5.379535164377093e-06 , W = [[1.00150615]] , b = [1.99456364]\n",
      "step = 2000 , error value = 3.432461471525388e-07 , W = [[1.00038045]] , b = [1.99862678]\n",
      "step = 2400 , error value = 2.1901133450038304e-08 , W = [[1.0000961]] , b = [1.99965313]\n",
      "step = 2800 , error value = 1.3974217930143682e-09 , W = [[1.00002428]] , b = [1.99991238]\n",
      "step = 3200 , error value = 8.916377191454847e-11 , W = [[1.00000613]] , b = [1.99997787]\n",
      "step = 3600 , error value = 5.689175780338234e-12 , W = [[1.00000155]] , b = [1.99999441]\n",
      "step = 4000 , error value = 3.6300304930914456e-13 , W = [[1.00000039]] , b = [1.99999859]\n",
      "step = 4400 , error value = 2.3161740755807714e-14 , W = [[1.0000001]] , b = [1.99999964]\n",
      "step = 4800 , error value = 1.4778559942322832e-15 , W = [[1.00000002]] , b = [1.99999991]\n",
      "step = 5200 , error value = 9.429595190523847e-17 , W = [[1.00000001]] , b = [1.99999998]\n",
      "step = 5600 , error value = 6.016639783610583e-18 , W = [[1.]] , b = [1.99999999]\n",
      "step = 6000 , error value = 3.838975823194761e-19 , W = [[1.]] , b = [2.]\n",
      "step = 6400 , error value = 2.4495062320255683e-20 , W = [[1.]] , b = [2.]\n",
      "step = 6800 , error value = 1.562952159722315e-21 , W = [[1.]] , b = [2.]\n",
      "step = 7200 , error value = 9.973417326291466e-23 , W = [[1.]] , b = [2.]\n",
      "step = 7600 , error value = 6.363399069544625e-24 , W = [[1.]] , b = [2.]\n",
      "step = 8000 , error value = 4.06740350935163e-25 , W = [[1.]] , b = [2.]\n",
      "step = 8400 , error value = 2.6215110057942575e-26 , W = [[1.]] , b = [2.]\n",
      "step = 8800 , error value = 1.675540562689429e-27 , W = [[1.]] , b = [2.]\n",
      "step = 9200 , error value = 2.680943786393609e-28 , W = [[1.]] , b = [2.]\n",
      "step = 9600 , error value = 2.680943786393609e-28 , W = [[1.]] , b = [2.]\n",
      "step = 10000 , error value = 2.680943786393609e-28 , W = [[1.]] , b = [2.]\n"
     ]
    }
   ],
   "source": [
    "learning_rate = 1e-2\n",
    "f = lambda x: loss_func(x_data, t_data)\n",
    "print(\"initial error value =\", loss_func(x_data, t_data), \", initial W =\", W, \", initial b =\", b)\n",
    "\n",
    "for step in range(10001):\n",
    "    W -= learning_rate * numerical_derivative(f, W)\n",
    "    b -= learning_rate * numerical_derivative(f, b)\n",
    "    \n",
    "    if step % 400 == 0:  # 400번마다 출력\n",
    "        print(\"step =\", step, \", error value =\", loss_func(x_data, t_data), \", W =\", W, \", b =\", b)"
   ]
  },
  {
   "cell_type": "code",
   "execution_count": 8,
   "id": "2468ac3c-94d5-4e56-be94-5f4a3734271d",
   "metadata": {},
   "outputs": [
    {
     "data": {
      "text/plain": [
       "array([[12.]])"
      ]
     },
     "execution_count": 8,
     "metadata": {},
     "output_type": "execute_result"
    }
   ],
   "source": [
    "predict(10)  # y = x + 2"
   ]
  }
 ],
 "metadata": {
  "kernelspec": {
   "display_name": "Python 3",
   "language": "python",
   "name": "python3"
  },
  "language_info": {
   "codemirror_mode": {
    "name": "ipython",
    "version": 3
   },
   "file_extension": ".py",
   "mimetype": "text/x-python",
   "name": "python",
   "nbconvert_exporter": "python",
   "pygments_lexer": "ipython3",
   "version": "3.8.8"
  },
  "vscode": {
   "interpreter": {
    "hash": "610a6f344c2137faf927ea819c63f6cee33a2c04455044b28099f39fe9722347"
   }
  }
 },
 "nbformat": 4,
 "nbformat_minor": 5
}
