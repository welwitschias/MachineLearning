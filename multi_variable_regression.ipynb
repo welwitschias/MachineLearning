{
 "cells": [
  {
   "cell_type": "code",
   "execution_count": 1,
   "id": "dc9a7776-9779-4446-91cb-04f6494f0dd6",
   "metadata": {},
   "outputs": [],
   "source": [
    "import numpy as np"
   ]
  },
  {
   "cell_type": "code",
   "execution_count": 2,
   "id": "12a1d4bc-e03a-45e9-b4bc-3981f08daf6a",
   "metadata": {},
   "outputs": [
    {
     "data": {
      "text/plain": [
       "array([[ 73.,  80.,  75., 152.],\n",
       "       [ 93.,  88.,  93., 185.],\n",
       "       [ 89.,  91.,  90., 180.],\n",
       "       [ 96.,  98., 100., 196.],\n",
       "       [ 73.,  66.,  70., 142.],\n",
       "       [ 53.,  46.,  55., 101.],\n",
       "       [ 69.,  74.,  77., 149.],\n",
       "       [ 47.,  56.,  60., 115.],\n",
       "       [ 87.,  79.,  90., 175.],\n",
       "       [ 79.,  70.,  88., 164.],\n",
       "       [ 69.,  70.,  73., 141.],\n",
       "       [ 70.,  65.,  74., 141.],\n",
       "       [ 93.,  95.,  91., 184.],\n",
       "       [ 79.,  80.,  73., 152.],\n",
       "       [ 70.,  73.,  78., 148.],\n",
       "       [ 93.,  89.,  96., 192.],\n",
       "       [ 78.,  75.,  68., 147.],\n",
       "       [ 81.,  90.,  93., 183.],\n",
       "       [ 88.,  92.,  86., 177.],\n",
       "       [ 78.,  83.,  77., 159.],\n",
       "       [ 82.,  86.,  90., 177.],\n",
       "       [ 86.,  82.,  89., 175.],\n",
       "       [ 78.,  83.,  85., 175.],\n",
       "       [ 76.,  83.,  71., 149.],\n",
       "       [ 96.,  93.,  95., 192.]], dtype=float32)"
      ]
     },
     "execution_count": 2,
     "metadata": {},
     "output_type": "execute_result"
    }
   ],
   "source": [
    "load_data = np.loadtxt(\"data/data-01-test-score.csv\", delimiter=\",\", dtype=np.float32)\n",
    "load_data"
   ]
  },
  {
   "cell_type": "code",
   "execution_count": 3,
   "id": "9dcbfeaa-2f1d-4a8a-bc8b-0e4e04f7e23d",
   "metadata": {},
   "outputs": [
    {
     "name": "stdout",
     "output_type": "stream",
     "text": [
      "x_data = [[ 73.  80.  75.]\n",
      " [ 93.  88.  93.]\n",
      " [ 89.  91.  90.]\n",
      " [ 96.  98. 100.]\n",
      " [ 73.  66.  70.]\n",
      " [ 53.  46.  55.]\n",
      " [ 69.  74.  77.]\n",
      " [ 47.  56.  60.]\n",
      " [ 87.  79.  90.]\n",
      " [ 79.  70.  88.]\n",
      " [ 69.  70.  73.]\n",
      " [ 70.  65.  74.]\n",
      " [ 93.  95.  91.]\n",
      " [ 79.  80.  73.]\n",
      " [ 70.  73.  78.]\n",
      " [ 93.  89.  96.]\n",
      " [ 78.  75.  68.]\n",
      " [ 81.  90.  93.]\n",
      " [ 88.  92.  86.]\n",
      " [ 78.  83.  77.]\n",
      " [ 82.  86.  90.]\n",
      " [ 86.  82.  89.]\n",
      " [ 78.  83.  85.]\n",
      " [ 76.  83.  71.]\n",
      " [ 96.  93.  95.]]\n",
      "t_data = [[152.]\n",
      " [185.]\n",
      " [180.]\n",
      " [196.]\n",
      " [142.]\n",
      " [101.]\n",
      " [149.]\n",
      " [115.]\n",
      " [175.]\n",
      " [164.]\n",
      " [141.]\n",
      " [141.]\n",
      " [184.]\n",
      " [152.]\n",
      " [148.]\n",
      " [192.]\n",
      " [147.]\n",
      " [183.]\n",
      " [177.]\n",
      " [159.]\n",
      " [177.]\n",
      " [175.]\n",
      " [175.]\n",
      " [149.]\n",
      " [192.]]\n"
     ]
    }
   ],
   "source": [
    "x_data = load_data[:,:-1]\n",
    "t_data = load_data[:,[-1]]\n",
    "print(\"x_data =\", x_data)\n",
    "print(\"t_data =\", t_data)"
   ]
  },
  {
   "cell_type": "code",
   "execution_count": 4,
   "id": "a9f75d2c-2c76-46e8-9651-620982ea12c7",
   "metadata": {},
   "outputs": [
    {
     "name": "stdout",
     "output_type": "stream",
     "text": [
      "W = [[0.35645103]\n",
      " [0.26787726]\n",
      " [0.71504071]] , b = [0.66414776]\n"
     ]
    }
   ],
   "source": [
    "W = np.random.rand(3, 1)\n",
    "b = np.random.rand(1)\n",
    "print(\"W =\", W, \", b =\", b)"
   ]
  },
  {
   "cell_type": "code",
   "execution_count": 5,
   "id": "b4e4275a-444b-4383-b18c-f46e88e47963",
   "metadata": {},
   "outputs": [],
   "source": [
    "def loss_func(x, t):\n",
    "    y = np.dot(x, W) + b\n",
    "    return (np.sum((t - y)**2))/len(x)"
   ]
  },
  {
   "cell_type": "code",
   "execution_count": 6,
   "id": "a9defc49-a7b7-4b81-a4f4-a7ba41d098c0",
   "metadata": {},
   "outputs": [],
   "source": [
    "def numerical_derivative(f, x):\n",
    "    delta_x = 1e-4\n",
    "    grad = np.zeros_like(x)\n",
    "#     print(\"initial x =\", x)\n",
    "#     print(\"initial grad =\", grad)\n",
    "#     print(\"=\"*50)\n",
    "\n",
    "    it = np.nditer(x, flags=['multi_index'], op_flags=['readwrite'])\n",
    "    while not it.finished:\n",
    "        idx = it.multi_index\n",
    "#         print(\"idx =\", idx, \", x[idx] =\", x[idx])\n",
    "        \n",
    "        tmp_val = x[idx]\n",
    "        x[idx] = float(tmp_val) + delta_x\n",
    "        fx1 = f(x)\n",
    "        \n",
    "        x[idx] = float(tmp_val) - delta_x\n",
    "        fx2 = f(x)\n",
    "        \n",
    "        grad[idx] = (fx1 - fx2) / (2 * delta_x)\n",
    "#         print(\"grad[idx] =\", grad[idx])\n",
    "#         print(\"grad =\", grad)\n",
    "#         print(\"=\"*50)\n",
    "        \n",
    "        x[idx] = tmp_val\n",
    "        it.iternext()\n",
    "\n",
    "    return grad"
   ]
  },
  {
   "cell_type": "code",
   "execution_count": 7,
   "id": "73bb979e-23c7-4a63-ae93-5bce06fdf7bb",
   "metadata": {},
   "outputs": [],
   "source": [
    "def predict(x):\n",
    "    y = np.dot(x, W) + b\n",
    "    return y"
   ]
  },
  {
   "cell_type": "code",
   "execution_count": 8,
   "id": "810dcb0c-0ea2-4ed5-9be1-bfd79b16b61b",
   "metadata": {},
   "outputs": [
    {
     "name": "stdout",
     "output_type": "stream",
     "text": [
      "initial error value = 2952.140507404876 , initial W = [[0.35645103]\n",
      " [0.26787726]\n",
      " [0.71504071]] , initial b = [0.66414776]\n",
      "step = 0 , error value = 2725.825474567978 , W = [[0.36511682]\n",
      " [0.27659585]\n",
      " [0.72396921]] , b = [0.66425085]\n",
      "step = 4000 , error value = 7.128631143699383 , W = [[0.556287  ]\n",
      " [0.48874849]\n",
      " [0.96504406]] , b = [0.66621318]\n",
      "step = 8000 , error value = 6.941388828508172 , W = [[0.53697519]\n",
      " [0.48816366]\n",
      " [0.98439109]] , b = [0.66561998]\n",
      "step = 12000 , error value = 6.794803001336895 , W = [[0.51954279]\n",
      " [0.48834574]\n",
      " [1.00116241]] , b = [0.66500505]\n",
      "step = 16000 , error value = 6.67948468307106 , W = [[0.50380409]\n",
      " [0.48910597]\n",
      " [1.01572294]] , b = [0.66437126]\n",
      "step = 20000 , error value = 6.588351383502654 , W = [[0.4895922 ]\n",
      " [0.49029239]\n",
      " [1.02838336]] , b = [0.66372109]\n",
      "step = 24000 , error value = 6.516028033917445 , W = [[0.47675702]\n",
      " [0.49178329]\n",
      " [1.03940843]] , b = [0.66305665]\n",
      "step = 28000 , error value = 6.45841067962987 , W = [[0.46516353]\n",
      " [0.49348177]\n",
      " [1.04902406]] , b = [0.66237979]\n",
      "step = 32000 , error value = 6.412347217085701 , W = [[0.45469023]\n",
      " [0.49531121]\n",
      " [1.05742318]] , b = [0.66169207]\n",
      "step = 36000 , error value = 6.375402598908514 , W = [[0.44522772]\n",
      " [0.49721153]\n",
      " [1.0647708 ]] , b = [0.66099487]\n",
      "step = 40000 , error value = 6.345685235303744 , W = [[0.43667746]\n",
      " [0.49913615]\n",
      " [1.07120819]] , b = [0.66028938]\n",
      "step = 44000 , error value = 6.321717921039193 , W = [[0.4289507 ]\n",
      " [0.50104937]\n",
      " [1.07685649]] , b = [0.65957662]\n",
      "step = 48000 , error value = 6.302341308508784 , W = [[0.42196743]\n",
      " [0.50292436]\n",
      " [1.08181965]] , b = [0.65885748]\n",
      "step = 52000 , error value = 6.28664128866973 , W = [[0.41565553]\n",
      " [0.50474138]\n",
      " [1.08618705]] , b = [0.65813275]\n",
      "step = 56000 , error value = 6.273894027159995 , W = [[0.40994999]\n",
      " [0.50648636]\n",
      " [1.09003562]] , b = [0.6574031]\n",
      "step = 60000 , error value = 6.263524110681651 , W = [[0.40479214]\n",
      " [0.50814977]\n",
      " [1.09343166]] , b = [0.65666912]\n",
      "step = 64000 , error value = 6.255072485044394 , W = [[0.40012908]\n",
      " [0.50972566]\n",
      " [1.09643242]] , b = [0.65593133]\n",
      "step = 68000 , error value = 6.248171749826065 , W = [[0.39591305]\n",
      " [0.51121087]\n",
      " [1.09908737]] , b = [0.65519018]\n",
      "step = 72000 , error value = 6.242527013605147 , W = [[0.39210096]\n",
      " [0.51260442]\n",
      " [1.10143936]] , b = [0.65444606]\n",
      "step = 76000 , error value = 6.237900977741736 , W = [[0.38865391]\n",
      " [0.51390697]\n",
      " [1.10352554]] , b = [0.65369933]\n",
      "step = 80000 , error value = 6.234102255152778 , W = [[0.38553678]\n",
      " [0.51512045]\n",
      " [1.10537815]] , b = [0.6529503]\n",
      "step = 84000 , error value = 6.23097617860161 , W = [[0.38271785]\n",
      " [0.51624769]\n",
      " [1.10702524]] , b = [0.65219922]\n",
      "step = 88000 , error value = 6.228397535783105 , W = [[0.38016848]\n",
      " [0.51729218]\n",
      " [1.10849126]] , b = [0.65144634]\n",
      "step = 92000 , error value = 6.2262648038587916 , W = [[0.37786279]\n",
      " [0.51825783]\n",
      " [1.10979751]] , b = [0.65069187]\n",
      "step = 96000 , error value = 6.224495556941466 , W = [[0.37577741]\n",
      " [0.51914884]\n",
      " [1.11096261]] , b = [0.64993599]\n",
      "step = 100000 , error value = 6.2230227955942965 , W = [[0.37389122]\n",
      " [0.51996954]\n",
      " [1.11200284]] , b = [0.64917887]\n"
     ]
    }
   ],
   "source": [
    "learning_rate = 1e-6  # 3~6 사이 적절하게 조절\n",
    "f = lambda x: loss_func(x_data, t_data)\n",
    "print(\"initial error value =\", loss_func(x_data, t_data), \", initial W =\", W, \", initial b =\", b)\n",
    "\n",
    "for step in range(100001):\n",
    "    W -= learning_rate * numerical_derivative(f, W)\n",
    "    b -= learning_rate * numerical_derivative(f, b)\n",
    "    \n",
    "    if step % 4000 == 0:  # 4000번마다 출력\n",
    "        print(\"step =\", step, \", error value =\", loss_func(x_data, t_data), \", W =\", W, \", b =\", b)"
   ]
  },
  {
   "cell_type": "code",
   "execution_count": null,
   "id": "998f05fb-f553-48d2-b712-f95bf8ddfb57",
   "metadata": {},
   "outputs": [],
   "source": []
  }
 ],
 "metadata": {
  "kernelspec": {
   "display_name": "Python 3",
   "language": "python",
   "name": "python3"
  },
  "language_info": {
   "codemirror_mode": {
    "name": "ipython",
    "version": 3
   },
   "file_extension": ".py",
   "mimetype": "text/x-python",
   "name": "python",
   "nbconvert_exporter": "python",
   "pygments_lexer": "ipython3",
   "version": "3.8.8"
  }
 },
 "nbformat": 4,
 "nbformat_minor": 5
}
