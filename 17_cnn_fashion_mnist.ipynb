{
 "cells": [
  {
   "cell_type": "code",
   "execution_count": 1,
   "metadata": {},
   "outputs": [],
   "source": [
    "import numpy as np\n",
    "import matplotlib.pyplot as plt\n",
    "\n",
    "from keras.datasets import fashion_mnist\n",
    "from keras.models import Sequential\n",
    "from keras.layers import Flatten, Dense, Conv2D, MaxPool2D, Dropout\n",
    "from keras.optimizers import Adam"
   ]
  },
  {
   "cell_type": "code",
   "execution_count": 2,
   "metadata": {},
   "outputs": [],
   "source": [
    "(x_train, t_train), (x_test, t_test) = fashion_mnist.load_data()"
   ]
  },
  {
   "cell_type": "code",
   "execution_count": 3,
   "metadata": {},
   "outputs": [
    {
     "name": "stdout",
     "output_type": "stream",
     "text": [
      "(60000, 28, 28, 1) (10000, 28, 28, 1)\n",
      "(60000,) (10000,)\n"
     ]
    }
   ],
   "source": [
    "x_train = x_train.reshape(-1, 28, 28, 1)\n",
    "x_test = x_test.reshape(-1, 28, 28, 1)\n",
    "print(x_train.shape, x_test.shape)\n",
    "print(t_train.shape, t_test.shape)"
   ]
  },
  {
   "cell_type": "code",
   "execution_count": 4,
   "metadata": {},
   "outputs": [],
   "source": [
    "x_train = x_train.astype(np.float32) / 255.0\n",
    "x_test = x_test.astype(np.float32) / 255.0"
   ]
  },
  {
   "cell_type": "code",
   "execution_count": 5,
   "metadata": {},
   "outputs": [],
   "source": [
    "cnn = Sequential()\n",
    "cnn.add(Conv2D(input_shape=(28, 28, 1), kernel_size=(3, 3),\n",
    "               filters=32, activation='relu'))\n",
    "cnn.add(Conv2D(kernel_size=(3, 3), filters=64, activation='relu'))\n",
    "cnn.add(MaxPool2D(pool_size=(2, 2)))\n",
    "cnn.add(Dropout(0.25))\n",
    "cnn.add(Flatten())\n",
    "cnn.add(Dense(128, activation='relu'))\n",
    "cnn.add(Dropout(0.5))\n",
    "cnn.add(Dense(10, activation='softmax'))"
   ]
  },
  {
   "cell_type": "code",
   "execution_count": 6,
   "metadata": {},
   "outputs": [
    {
     "name": "stdout",
     "output_type": "stream",
     "text": [
      "Model: \"sequential\"\n",
      "_________________________________________________________________\n",
      " Layer (type)                Output Shape              Param #   \n",
      "=================================================================\n",
      " conv2d (Conv2D)             (None, 26, 26, 32)        320       \n",
      "                                                                 \n",
      " conv2d_1 (Conv2D)           (None, 24, 24, 64)        18496     \n",
      "                                                                 \n",
      " max_pooling2d (MaxPooling2D  (None, 12, 12, 64)       0         \n",
      " )                                                               \n",
      "                                                                 \n",
      " dropout (Dropout)           (None, 12, 12, 64)        0         \n",
      "                                                                 \n",
      " flatten (Flatten)           (None, 9216)              0         \n",
      "                                                                 \n",
      " dense (Dense)               (None, 128)               1179776   \n",
      "                                                                 \n",
      " dropout_1 (Dropout)         (None, 128)               0         \n",
      "                                                                 \n",
      " dense_1 (Dense)             (None, 10)                1290      \n",
      "                                                                 \n",
      "=================================================================\n",
      "Total params: 1,199,882\n",
      "Trainable params: 1,199,882\n",
      "Non-trainable params: 0\n",
      "_________________________________________________________________\n"
     ]
    }
   ],
   "source": [
    "cnn.compile(loss='sparse_categorical_crossentropy', \n",
    "            optimizer=Adam(), metrics=['accuracy'])\n",
    "cnn.summary()"
   ]
  },
  {
   "cell_type": "code",
   "execution_count": 7,
   "metadata": {},
   "outputs": [
    {
     "name": "stdout",
     "output_type": "stream",
     "text": [
      "Epoch 1/30\n",
      "469/469 [==============================] - 53s 112ms/step - loss: 0.5097 - accuracy: 0.8203 - val_loss: 0.3251 - val_accuracy: 0.8840\n",
      "Epoch 2/30\n",
      "469/469 [==============================] - 52s 110ms/step - loss: 0.3328 - accuracy: 0.8807 - val_loss: 0.2857 - val_accuracy: 0.8932\n",
      "Epoch 3/30\n",
      "469/469 [==============================] - 51s 108ms/step - loss: 0.2838 - accuracy: 0.8972 - val_loss: 0.2563 - val_accuracy: 0.9047\n",
      "Epoch 4/30\n",
      "469/469 [==============================] - 51s 108ms/step - loss: 0.2513 - accuracy: 0.9079 - val_loss: 0.2441 - val_accuracy: 0.9070\n",
      "Epoch 5/30\n",
      "469/469 [==============================] - 51s 108ms/step - loss: 0.2350 - accuracy: 0.9141 - val_loss: 0.2290 - val_accuracy: 0.9158\n",
      "Epoch 6/30\n",
      "469/469 [==============================] - 51s 108ms/step - loss: 0.2157 - accuracy: 0.9208 - val_loss: 0.2178 - val_accuracy: 0.9212\n",
      "Epoch 7/30\n",
      "469/469 [==============================] - 51s 108ms/step - loss: 0.2003 - accuracy: 0.9255 - val_loss: 0.2140 - val_accuracy: 0.9213\n",
      "Epoch 8/30\n",
      "469/469 [==============================] - 50s 107ms/step - loss: 0.1855 - accuracy: 0.9316 - val_loss: 0.2111 - val_accuracy: 0.9240\n",
      "Epoch 9/30\n",
      "469/469 [==============================] - 50s 107ms/step - loss: 0.1742 - accuracy: 0.9353 - val_loss: 0.2087 - val_accuracy: 0.9248\n",
      "Epoch 10/30\n",
      "469/469 [==============================] - 51s 108ms/step - loss: 0.1612 - accuracy: 0.9392 - val_loss: 0.2042 - val_accuracy: 0.9277\n",
      "Epoch 11/30\n",
      "469/469 [==============================] - 51s 108ms/step - loss: 0.1489 - accuracy: 0.9440 - val_loss: 0.2306 - val_accuracy: 0.9237\n",
      "Epoch 12/30\n",
      "469/469 [==============================] - 51s 108ms/step - loss: 0.1443 - accuracy: 0.9457 - val_loss: 0.2177 - val_accuracy: 0.9263\n",
      "Epoch 13/30\n",
      "469/469 [==============================] - 51s 109ms/step - loss: 0.1332 - accuracy: 0.9498 - val_loss: 0.2158 - val_accuracy: 0.9269\n",
      "Epoch 14/30\n",
      "469/469 [==============================] - 52s 111ms/step - loss: 0.1250 - accuracy: 0.9529 - val_loss: 0.2108 - val_accuracy: 0.9299\n",
      "Epoch 15/30\n",
      "469/469 [==============================] - 51s 110ms/step - loss: 0.1175 - accuracy: 0.9550 - val_loss: 0.2338 - val_accuracy: 0.9270\n",
      "Epoch 16/30\n",
      "469/469 [==============================] - 51s 109ms/step - loss: 0.1140 - accuracy: 0.9573 - val_loss: 0.2437 - val_accuracy: 0.9247\n",
      "Epoch 17/30\n",
      "469/469 [==============================] - 53s 112ms/step - loss: 0.1060 - accuracy: 0.9596 - val_loss: 0.2275 - val_accuracy: 0.9300\n",
      "Epoch 18/30\n",
      "469/469 [==============================] - 52s 111ms/step - loss: 0.1016 - accuracy: 0.9600 - val_loss: 0.2543 - val_accuracy: 0.9274\n",
      "Epoch 19/30\n",
      "469/469 [==============================] - 54s 115ms/step - loss: 0.0982 - accuracy: 0.9624 - val_loss: 0.2298 - val_accuracy: 0.9298\n",
      "Epoch 20/30\n",
      "469/469 [==============================] - 55s 117ms/step - loss: 0.0921 - accuracy: 0.9647 - val_loss: 0.2396 - val_accuracy: 0.9287\n",
      "Epoch 21/30\n",
      "469/469 [==============================] - 52s 110ms/step - loss: 0.0875 - accuracy: 0.9662 - val_loss: 0.2491 - val_accuracy: 0.9297\n",
      "Epoch 22/30\n",
      "469/469 [==============================] - 56s 120ms/step - loss: 0.0856 - accuracy: 0.9669 - val_loss: 0.2441 - val_accuracy: 0.9312\n",
      "Epoch 23/30\n",
      "469/469 [==============================] - 55s 117ms/step - loss: 0.0822 - accuracy: 0.9686 - val_loss: 0.2595 - val_accuracy: 0.9288\n",
      "Epoch 24/30\n",
      "469/469 [==============================] - 54s 116ms/step - loss: 0.0790 - accuracy: 0.9695 - val_loss: 0.2553 - val_accuracy: 0.9307\n",
      "Epoch 25/30\n",
      "469/469 [==============================] - 53s 113ms/step - loss: 0.0813 - accuracy: 0.9685 - val_loss: 0.2489 - val_accuracy: 0.9304\n",
      "Epoch 26/30\n",
      "469/469 [==============================] - 53s 112ms/step - loss: 0.0741 - accuracy: 0.9714 - val_loss: 0.2516 - val_accuracy: 0.9290\n",
      "Epoch 27/30\n",
      "469/469 [==============================] - 53s 112ms/step - loss: 0.0727 - accuracy: 0.9720 - val_loss: 0.2701 - val_accuracy: 0.9298\n",
      "Epoch 28/30\n",
      "469/469 [==============================] - 53s 112ms/step - loss: 0.0715 - accuracy: 0.9723 - val_loss: 0.2824 - val_accuracy: 0.9296\n",
      "Epoch 29/30\n",
      "469/469 [==============================] - 52s 112ms/step - loss: 0.0704 - accuracy: 0.9726 - val_loss: 0.2638 - val_accuracy: 0.9308\n",
      "Epoch 30/30\n",
      "469/469 [==============================] - 53s 113ms/step - loss: 0.0668 - accuracy: 0.9749 - val_loss: 0.2980 - val_accuracy: 0.9275\n"
     ]
    }
   ],
   "source": [
    "hist = cnn.fit(x_train, t_train, batch_size=128,\n",
    "               epochs=30, validation_data=(x_test, t_test))"
   ]
  },
  {
   "cell_type": "code",
   "execution_count": 8,
   "metadata": {},
   "outputs": [
    {
     "name": "stdout",
     "output_type": "stream",
     "text": [
      "313/313 [==============================] - 2s 6ms/step - loss: 0.2980 - accuracy: 0.9275\n"
     ]
    },
    {
     "data": {
      "text/plain": [
       "[0.29804959893226624, 0.9275000095367432]"
      ]
     },
     "execution_count": 8,
     "metadata": {},
     "output_type": "execute_result"
    }
   ],
   "source": [
    "cnn.evaluate(x_test, t_test)"
   ]
  },
  {
   "cell_type": "code",
   "execution_count": 9,
   "metadata": {},
   "outputs": [
    {
     "data": {
      "image/png": "[encoded data removed]",
      "text/plain": [
       "<Figure size 432x288 with 1 Axes>"
      ]
     },
     "metadata": {
      "needs_background": "light"
     },
     "output_type": "display_data"
    }
   ],
   "source": [
    "plt.title('loss')\n",
    "plt.xlabel('epoch')\n",
    "plt.ylabel('loss')\n",
    "plt.plot(hist.history['loss'], label='train loss')\n",
    "plt.plot(hist.history['val_loss'], label='validation loss')\n",
    "plt.legend(loc='best')\n",
    "plt.show()"
   ]
  },
  {
   "cell_type": "code",
   "execution_count": 10,
   "metadata": {},
   "outputs": [
    {
     "data": {
      "image/png": "[encoded data removed]",
      "text/plain": [
       "<Figure size 432x288 with 1 Axes>"
      ]
     },
     "metadata": {
      "needs_background": "light"
     },
     "output_type": "display_data"
    }
   ],
   "source": [
    "plt.title('accuracy')\n",
    "plt.xlabel('epoch')\n",
    "plt.ylabel('accuracy')\n",
    "plt.plot(hist.history['accuracy'], label='train accuracy')\n",
    "plt.plot(hist.history['val_accuracy'], label='validation accuracy')\n",
    "plt.legend(loc='best')\n",
    "plt.show()"
   ]
  }
 ],
 "metadata": {
  "kernelspec": {
   "display_name": "Python 3.8.8 ('base')",
   "language": "python",
   "name": "python3"
  },
  "language_info": {
   "codemirror_mode": {
    "name": "ipython",
    "version": 3
   },
   "file_extension": ".py",
   "mimetype": "text/x-python",
   "name": "python",
   "nbconvert_exporter": "python",
   "pygments_lexer": "ipython3",
   "version": "3.8.8"
  },
  "orig_nbformat": 4,
  "vscode": {
   "interpreter": {
    "hash": "610a6f344c2137faf927ea819c63f6cee33a2c04455044b28099f39fe9722347"
   }
  }
 },
 "nbformat": 4,
 "nbformat_minor": 2
}
