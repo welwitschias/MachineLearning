{
 "cells": [
  {
   "cell_type": "code",
   "execution_count": 1,
   "id": "8001833d-43e6-4bdf-a953-b967257fdffd",
   "metadata": {},
   "outputs": [],
   "source": [
    "import numpy as np"
   ]
  },
  {
   "cell_type": "code",
   "execution_count": 2,
   "id": "6bf065c1-5b08-4e10-9da5-75a527474629",
   "metadata": {},
   "outputs": [],
   "source": [
    "x_data = np.array([2, 4, 6, 8, 10, 12, 14, 16, 18, 20]).reshape(10, 1)\n",
    "t_data = np.array([0, 0, 0, 0, 0, 0, 1, 1, 1, 1]).reshape(10, 1)"
   ]
  },
  {
   "cell_type": "code",
   "execution_count": 3,
   "id": "4f644ae7-c890-4f8d-a4ef-92a1920dcedc",
   "metadata": {},
   "outputs": [
    {
     "name": "stdout",
     "output_type": "stream",
     "text": [
      "W = [[0.71703843]] , b = [0.41748004]\n"
     ]
    }
   ],
   "source": [
    "W = np.random.rand(1, 1)\n",
    "b = np.random.rand(1)\n",
    "print(\"W =\", W, \", b =\", b)"
   ]
  },
  {
   "cell_type": "code",
   "execution_count": 4,
   "id": "7dfd38ff-051c-4ad4-b5a5-6b14980b9e89",
   "metadata": {},
   "outputs": [],
   "source": [
    "def sigmoid(x):\n",
    "    return 1 / (1 + np.exp(-x))"
   ]
  },
  {
   "cell_type": "code",
   "execution_count": 5,
   "id": "c678b16d-5a18-418e-b1b8-e5695ea775bd",
   "metadata": {},
   "outputs": [],
   "source": [
    "def loss_func(x, t):\n",
    "    delta = 1e-7  # log 무한대 발산 방지\n",
    "    z = np.dot(x, W) + b\n",
    "    y = sigmoid(z)\n",
    "    return -np.sum(t * np.log(y + delta) + (1-t) * np.log((1-y) + delta))"
   ]
  },
  {
   "cell_type": "code",
   "execution_count": 6,
   "id": "db8f31d8-fb0f-464c-9630-f1879cef0bb4",
   "metadata": {},
   "outputs": [],
   "source": [
    "def numerical_derivative(f, x):\n",
    "    delta_x = 1e-4\n",
    "    grad = np.zeros_like(x)\n",
    "\n",
    "    it = np.nditer(x, flags=['multi_index'], op_flags=['readwrite'])\n",
    "    while not it.finished:\n",
    "        idx = it.multi_index\n",
    "        \n",
    "        tmp_val = x[idx]\n",
    "        x[idx] = float(tmp_val) + delta_x\n",
    "        fx1 = f(x)\n",
    "        \n",
    "        x[idx] = float(tmp_val) - delta_x\n",
    "        fx2 = f(x)\n",
    "        \n",
    "        grad[idx] = (fx1 - fx2) / (2 * delta_x)\n",
    "        \n",
    "        x[idx] = tmp_val\n",
    "        it.iternext()\n",
    "\n",
    "    return grad"
   ]
  },
  {
   "cell_type": "code",
   "execution_count": 7,
   "id": "7a0947a3-e936-45c7-9059-9bae99a5b713",
   "metadata": {},
   "outputs": [],
   "source": [
    "def predict(x):\n",
    "    z = np.dot(x, W) + b\n",
    "    y = sigmoid(z)\n",
    "\n",
    "    if y > 0.5:\n",
    "        result = 1  # True\n",
    "    else:\n",
    "        result = 0  # False\n",
    "\n",
    "    return y, result"
   ]
  },
  {
   "cell_type": "code",
   "execution_count": 8,
   "id": "d227ec6f-141f-4937-995e-1615977b944f",
   "metadata": {},
   "outputs": [
    {
     "name": "stdout",
     "output_type": "stream",
     "text": [
      "initial error value = 32.81363034991507 , initial W = [[0.71703843]] , initial b = [0.41748004]\n",
      "step = 0 , error value = 15.621620113015563 , W = [[0.30208915]] , b = [0.36397219]\n",
      "step = 400 , error value = 3.011939612284928 , W = [[0.43341723]] , b = [-4.20145119]\n",
      "step = 800 , error value = 1.7699173925152272 , W = [[0.4568754]] , b = [-5.68790303]\n",
      "step = 1200 , error value = 1.5099635471010797 , W = [[0.53337856]] , b = [-6.70646915]\n",
      "step = 1600 , error value = 1.347061924634509 , W = [[0.59416261]] , b = [-7.51355759]\n",
      "step = 2000 , error value = 1.2320071696543187 , W = [[0.64537056]] , b = [-8.19202107]\n",
      "step = 2400 , error value = 1.1447201389365476 , W = [[0.69005411]] , b = [-8.78299861]\n",
      "step = 2800 , error value = 1.0752739832673974 , W = [[0.72996746]] , b = [-9.31011686]\n",
      "step = 3200 , error value = 1.0181187845474957 , W = [[0.76621925]] , b = [-9.78829163]\n",
      "step = 3600 , error value = 0.9698729367222395 , W = [[0.79955853]] , b = [-10.2275894]\n",
      "step = 4000 , error value = 0.9283404288923853 , W = [[0.83051718]] , b = [-10.63515019]\n",
      "step = 4400 , error value = 0.8920233058541583 , W = [[0.85948767]] , b = [-11.01623701]\n",
      "step = 4800 , error value = 0.8598590128017476 , W = [[0.88676866]] , b = [-11.37485032]\n",
      "step = 5200 , error value = 0.8310694272370173 , W = [[0.91259314]] , b = [-11.71410811]\n",
      "step = 5600 , error value = 0.8050694264485284 , W = [[0.9371467]] , b = [-12.03649186]\n",
      "step = 6000 , error value = 0.7814090687100637 , W = [[0.96057983]] , b = [-12.3440116]\n",
      "step = 6400 , error value = 0.7597356799291488 , W = [[0.98301636]] , b = [-12.63832029]\n",
      "step = 6800 , error value = 0.7397682120982354 , W = [[1.00455956]] , b = [-12.9207952]\n",
      "step = 7200 , error value = 0.7212794325006909 , W = [[1.02529654]] , b = [-13.19259706]\n",
      "step = 7600 , error value = 0.7040832610639786 , W = [[1.04530148]] , b = [-13.45471411]\n",
      "step = 8000 , error value = 0.68802558168265 , W = [[1.06463819]] , b = [-13.70799526]\n",
      "step = 8400 , error value = 0.6729774523436112 , W = [[1.08336193]] , b = [-13.9531757]\n",
      "step = 8800 , error value = 0.6588300058730929 , W = [[1.10152093]] , b = [-14.19089669]\n",
      "step = 9200 , error value = 0.645490564208235 , W = [[1.11915759]] , b = [-14.42172126]\n",
      "step = 9600 , error value = 0.6328796382085269 , W = [[1.13630934]] , b = [-14.64614674]\n",
      "step = 10000 , error value = 0.6209285833793198 , W = [[1.15300948]] , b = [-14.86461479]\n"
     ]
    }
   ],
   "source": [
    "learning_rate = 1e-2  # 발산 정도에 따라 3~6 사이 적절하게 조절\n",
    "def f(x): return loss_func(x_data, t_data)\n",
    "\n",
    "\n",
    "print(\"initial error value =\", loss_func(x_data, t_data),\n",
    "      \", initial W =\", W, \", initial b =\", b)\n",
    "\n",
    "for step in range(10001):\n",
    "    W -= learning_rate * numerical_derivative(f, W)\n",
    "    b -= learning_rate * numerical_derivative(f, b)\n",
    "\n",
    "    if step % 400 == 0:\n",
    "        print(\"step =\", step, \", error value =\", loss_func(x_data, t_data),\n",
    "              \", W =\", W, \", b =\", b)"
   ]
  },
  {
   "cell_type": "code",
   "execution_count": 13,
   "id": "5bdd0135-b141-4094-9a30-b80438ea5649",
   "metadata": {},
   "outputs": [
    {
     "name": "stdout",
     "output_type": "stream",
     "text": [
      "real_val = [[0.50002467]] , logical_val = 1\n"
     ]
    }
   ],
   "source": [
    "(real_val, logical_val) = predict(12.8921)\n",
    "print(\"real_val =\", real_val, \", logical_val =\", logical_val)"
   ]
  }
 ],
 "metadata": {
  "kernelspec": {
   "display_name": "Python 3",
   "language": "python",
   "name": "python3"
  },
  "language_info": {
   "codemirror_mode": {
    "name": "ipython",
    "version": 3
   },
   "file_extension": ".py",
   "mimetype": "text/x-python",
   "name": "python",
   "nbconvert_exporter": "python",
   "pygments_lexer": "ipython3",
   "version": "3.8.8"
  },
  "vscode": {
   "interpreter": {
    "hash": "610a6f344c2137faf927ea819c63f6cee33a2c04455044b28099f39fe9722347"
   }
  }
 },
 "nbformat": 4,
 "nbformat_minor": 5
}
