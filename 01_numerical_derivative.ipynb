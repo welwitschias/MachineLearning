{
 "cells": [
  {
   "cell_type": "code",
   "execution_count": 1,
   "id": "78f2a59f-2309-4224-ad47-0a6fd32ee54a",
   "metadata": {},
   "outputs": [],
   "source": [
    "import numpy as np"
   ]
  },
  {
   "cell_type": "code",
   "execution_count": 2,
   "id": "9f42217e-8796-4b9d-92c7-928cb01e477b",
   "metadata": {},
   "outputs": [],
   "source": [
    "def numerical_derivative(f, x):\n",
    "    delta_x = 1e-4\n",
    "    return (f(x + delta_x) - f(x - delta_x)) / (2 * delta_x)"
   ]
  },
  {
   "cell_type": "code",
   "execution_count": 3,
   "id": "b0ac1fa0-9321-409f-b890-e48a54422d08",
   "metadata": {},
   "outputs": [],
   "source": [
    "def my_func1(x):\n",
    "    return x**2  # x^2"
   ]
  },
  {
   "cell_type": "code",
   "execution_count": 4,
   "id": "28406bd1-e4ac-4988-99a8-ca88bc418d33",
   "metadata": {},
   "outputs": [
    {
     "data": {
      "text/plain": [
       "6.000000000012662"
      ]
     },
     "execution_count": 4,
     "metadata": {},
     "output_type": "execute_result"
    }
   ],
   "source": [
    "result = numerical_derivative(my_func1, 3)\n",
    "result"
   ]
  },
  {
   "cell_type": "code",
   "execution_count": 5,
   "id": "9b24b2ec-30c2-4dc9-badb-1fe40518130c",
   "metadata": {},
   "outputs": [],
   "source": [
    "def my_func2(x):\n",
    "    return 3*x*(np.exp(x))  # 3xe^x"
   ]
  },
  {
   "cell_type": "code",
   "execution_count": 6,
   "id": "5237b1fd-9e02-4094-97a8-f430d2b2db11",
   "metadata": {},
   "outputs": [
    {
     "data": {
      "text/plain": [
       "66.50150507518049"
      ]
     },
     "execution_count": 6,
     "metadata": {},
     "output_type": "execute_result"
    }
   ],
   "source": [
    "result = numerical_derivative(my_func2, 2)\n",
    "result"
   ]
  },
  {
   "cell_type": "code",
   "execution_count": 7,
   "id": "c7a19b6d-8c41-4a7e-9f83-5baedb399b0b",
   "metadata": {},
   "outputs": [],
   "source": [
    "def numerical_derivative(f, x):\n",
    "    delta_x = 1e-4  # 10^-4\n",
    "    grad = np.zeros_like(x)\n",
    "    print(\"initial x =\", x)\n",
    "    print(\"initial grad =\", grad)\n",
    "    print(\"=\"*50)\n",
    "\n",
    "    it = np.nditer(x, flags=['multi_index'], op_flags=['readwrite'])\n",
    "    while not it.finished:\n",
    "        idx = it.multi_index\n",
    "        print(\"idx =\", idx, \", x[idx] =\", x[idx])\n",
    "        \n",
    "        tmp_val = x[idx]\n",
    "        x[idx] = float(tmp_val) + delta_x\n",
    "        fx1 = f(x)\n",
    "        \n",
    "        x[idx] = float(tmp_val) - delta_x\n",
    "        fx2 = f(x)\n",
    "        \n",
    "        grad[idx] = (fx1 - fx2) / (2 * delta_x)\n",
    "        print(\"grad[idx] =\", grad[idx])\n",
    "        print(\"grad =\", grad)\n",
    "        print(\"=\"*50)\n",
    "        \n",
    "        x[idx] = tmp_val\n",
    "        it.iternext()\n",
    "\n",
    "    return grad"
   ]
  },
  {
   "cell_type": "code",
   "execution_count": 8,
   "id": "b7084733-1c82-4dd3-84d5-884c1b0ed5f2",
   "metadata": {},
   "outputs": [],
   "source": [
    "def my_func3(input_obj):\n",
    "    x = input_obj[0]\n",
    "    y = input_obj[1]\n",
    "    return (2*x + 3*x*y + np.power(y, 3))  # 2x + 3xy + y^3"
   ]
  },
  {
   "cell_type": "code",
   "execution_count": 9,
   "id": "729f9f92-2441-422f-af1c-a717e53f014c",
   "metadata": {
    "tags": []
   },
   "outputs": [
    {
     "name": "stdout",
     "output_type": "stream",
     "text": [
      "initial x = [3. 2.]\n",
      "initial grad = [0. 0.]\n",
      "==================================================\n",
      "idx = (0,) , x[idx] = 3.0\n",
      "grad[idx] = 7.999999999999119\n",
      "grad = [8. 0.]\n",
      "==================================================\n",
      "idx = (1,) , x[idx] = 2.0\n",
      "grad[idx] = 21.000000010040765\n",
      "grad = [ 8.         21.00000001]\n",
      "==================================================\n"
     ]
    },
    {
     "data": {
      "text/plain": [
       "array([ 8.        , 21.00000001])"
      ]
     },
     "execution_count": 9,
     "metadata": {},
     "output_type": "execute_result"
    }
   ],
   "source": [
    "numerical_derivative(my_func3, np.array([3.0, 2.0]))"
   ]
  },
  {
   "cell_type": "code",
   "execution_count": 10,
   "id": "357091a2-b30f-407e-a26b-f585d767ba46",
   "metadata": {},
   "outputs": [],
   "source": [
    "def my_func4(input_obj):\n",
    "    w = input_obj[0]\n",
    "    x = input_obj[1]\n",
    "    y = input_obj[2]\n",
    "    z = input_obj[3]\n",
    "    return (w*x + x*y*z + 3*w + z*np.power(y, 2))  # wx + xyz + 3w + zy^2"
   ]
  },
  {
   "cell_type": "code",
   "execution_count": 11,
   "id": "0f6af5c4-1f7a-4d16-8fb9-0908bab6aae7",
   "metadata": {},
   "outputs": [
    {
     "name": "stdout",
     "output_type": "stream",
     "text": [
      "initial x = [3. 2. 3. 4.]\n",
      "initial grad = [0. 0. 0. 0.]\n",
      "==================================================\n",
      "idx = (0,) , x[idx] = 3.0\n",
      "grad[idx] = 5.000000000023874\n",
      "grad = [5. 0. 0. 0.]\n",
      "==================================================\n",
      "idx = (1,) , x[idx] = 2.0\n",
      "grad[idx] = 15.000000000000568\n",
      "grad = [ 5. 15.  0.  0.]\n",
      "==================================================\n",
      "idx = (2,) , x[idx] = 3.0\n",
      "grad[idx] = 31.999999999996476\n",
      "grad = [ 5. 15. 32.  0.]\n",
      "==================================================\n",
      "idx = (3,) , x[idx] = 4.0\n",
      "grad[idx] = 15.000000000000568\n",
      "grad = [ 5. 15. 32. 15.]\n",
      "==================================================\n"
     ]
    },
    {
     "data": {
      "text/plain": [
       "array([ 5., 15., 32., 15.])"
      ]
     },
     "execution_count": 11,
     "metadata": {},
     "output_type": "execute_result"
    }
   ],
   "source": [
    "numerical_derivative(my_func4, np.array([3.0, 2.0, 3.0, 4.0]))"
   ]
  },
  {
   "cell_type": "code",
   "execution_count": 12,
   "id": "bcd50916-c490-4347-9c13-69fd9f50d033",
   "metadata": {},
   "outputs": [
    {
     "name": "stdout",
     "output_type": "stream",
     "text": [
      "initial x = [3.]\n",
      "initial grad = [0.]\n",
      "==================================================\n",
      "idx = (0,) , x[idx] = 3.0\n",
      "grad[idx] = 6.000000000012662\n",
      "grad = [6.]\n",
      "==================================================\n"
     ]
    },
    {
     "data": {
      "text/plain": [
       "array([6.])"
      ]
     },
     "execution_count": 12,
     "metadata": {},
     "output_type": "execute_result"
    }
   ],
   "source": [
    "numerical_derivative(my_func1, np.array([3.0]))"
   ]
  }
 ],
 "metadata": {
  "kernelspec": {
   "display_name": "Python 3",
   "language": "python",
   "name": "python3"
  },
  "language_info": {
   "codemirror_mode": {
    "name": "ipython",
    "version": 3
   },
   "file_extension": ".py",
   "mimetype": "text/x-python",
   "name": "python",
   "nbconvert_exporter": "python",
   "pygments_lexer": "ipython3",
   "version": "3.8.8"
  },
  "vscode": {
   "interpreter": {
    "hash": "610a6f344c2137faf927ea819c63f6cee33a2c04455044b28099f39fe9722347"
   }
  }
 },
 "nbformat": 4,
 "nbformat_minor": 5
}
