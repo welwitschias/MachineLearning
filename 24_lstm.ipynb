{
 "cells": [
  {
   "cell_type": "code",
   "execution_count": 1,
   "metadata": {},
   "outputs": [],
   "source": [
    "import numpy as np\n",
    "import pandas as pd\n",
    "import matplotlib.pyplot as plt\n",
    "\n",
    "from keras.models import Sequential\n",
    "from keras.layers import LSTM, Dense\n",
    "from keras.optimizers import Adam\n",
    "from keras.callbacks import EarlyStopping"
   ]
  },
  {
   "cell_type": "code",
   "execution_count": 2,
   "metadata": {},
   "outputs": [
    {
     "data": {
      "text/html": [
       "<div>\n",
       "<style scoped>\n",
       "    .dataframe tbody tr th:only-of-type {\n",
       "        vertical-align: middle;\n",
       "    }\n",
       "\n",
       "    .dataframe tbody tr th {\n",
       "        vertical-align: top;\n",
       "    }\n",
       "\n",
       "    .dataframe thead th {\n",
       "        text-align: right;\n",
       "    }\n",
       "</style>\n",
       "<table border=\"1\" class=\"dataframe\">\n",
       "  <thead>\n",
       "    <tr style=\"text-align: right;\">\n",
       "      <th></th>\n",
       "      <th>Date</th>\n",
       "      <th>Open</th>\n",
       "      <th>High</th>\n",
       "      <th>Low</th>\n",
       "      <th>Close</th>\n",
       "      <th>Adj Close</th>\n",
       "      <th>Volume</th>\n",
       "      <th>3MA</th>\n",
       "      <th>5MA</th>\n",
       "    </tr>\n",
       "  </thead>\n",
       "  <tbody>\n",
       "    <tr>\n",
       "      <th>0</th>\n",
       "      <td>2000-01-04</td>\n",
       "      <td>6000</td>\n",
       "      <td>6110</td>\n",
       "      <td>5660</td>\n",
       "      <td>6110</td>\n",
       "      <td>4591.915527</td>\n",
       "      <td>74195000</td>\n",
       "      <td>NaN</td>\n",
       "      <td>NaN</td>\n",
       "    </tr>\n",
       "    <tr>\n",
       "      <th>1</th>\n",
       "      <td>2000-01-05</td>\n",
       "      <td>5800</td>\n",
       "      <td>6060</td>\n",
       "      <td>5520</td>\n",
       "      <td>5580</td>\n",
       "      <td>4193.600586</td>\n",
       "      <td>74680000</td>\n",
       "      <td>NaN</td>\n",
       "      <td>NaN</td>\n",
       "    </tr>\n",
       "    <tr>\n",
       "      <th>2</th>\n",
       "      <td>2000-01-06</td>\n",
       "      <td>5750</td>\n",
       "      <td>5780</td>\n",
       "      <td>5580</td>\n",
       "      <td>5620</td>\n",
       "      <td>4223.660156</td>\n",
       "      <td>54390000</td>\n",
       "      <td>NaN</td>\n",
       "      <td>NaN</td>\n",
       "    </tr>\n",
       "    <tr>\n",
       "      <th>3</th>\n",
       "      <td>2000-01-07</td>\n",
       "      <td>5560</td>\n",
       "      <td>5670</td>\n",
       "      <td>5360</td>\n",
       "      <td>5540</td>\n",
       "      <td>4163.535645</td>\n",
       "      <td>40305000</td>\n",
       "      <td>4336.392090</td>\n",
       "      <td>NaN</td>\n",
       "    </tr>\n",
       "    <tr>\n",
       "      <th>4</th>\n",
       "      <td>2000-01-10</td>\n",
       "      <td>5600</td>\n",
       "      <td>5770</td>\n",
       "      <td>5580</td>\n",
       "      <td>5770</td>\n",
       "      <td>4336.392090</td>\n",
       "      <td>46880000</td>\n",
       "      <td>4193.598796</td>\n",
       "      <td>NaN</td>\n",
       "    </tr>\n",
       "  </tbody>\n",
       "</table>\n",
       "</div>"
      ],
      "text/plain": [
       "         Date  Open  High   Low  Close    Adj Close    Volume          3MA  \\\n",
       "0  2000-01-04  6000  6110  5660   6110  4591.915527  74195000          NaN   \n",
       "1  2000-01-05  5800  6060  5520   5580  4193.600586  74680000          NaN   \n",
       "2  2000-01-06  5750  5780  5580   5620  4223.660156  54390000          NaN   \n",
       "3  2000-01-07  5560  5670  5360   5540  4163.535645  40305000  4336.392090   \n",
       "4  2000-01-10  5600  5770  5580   5770  4336.392090  46880000  4193.598796   \n",
       "\n",
       "   5MA  \n",
       "0  NaN  \n",
       "1  NaN  \n",
       "2  NaN  \n",
       "3  NaN  \n",
       "4  NaN  "
      ]
     },
     "execution_count": 2,
     "metadata": {},
     "output_type": "execute_result"
    }
   ],
   "source": [
    "raw_df = pd.read_csv('data/005930.KS.csv')\n",
    "raw_df.head()"
   ]
  },
  {
   "cell_type": "code",
   "execution_count": 3,
   "metadata": {},
   "outputs": [
    {
     "data": {
      "image/png": "[encoded data removed]",
      "text/plain": [
       "<Figure size 864x432 with 1 Axes>"
      ]
     },
     "metadata": {
      "needs_background": "light"
     },
     "output_type": "display_data"
    }
   ],
   "source": [
    "plt.figure(figsize=(12, 6))\n",
    "plt.title('samsung electronic')\n",
    "plt.xlabel('period')\n",
    "plt.ylabel('price')\n",
    "plt.grid()\n",
    "plt.plot(raw_df['Adj Close'], label='Adj Close')\n",
    "plt.show()"
   ]
  },
  {
   "cell_type": "code",
   "execution_count": 4,
   "metadata": {},
   "outputs": [
    {
     "data": {
      "text/html": [
       "<div>\n",
       "<style scoped>\n",
       "    .dataframe tbody tr th:only-of-type {\n",
       "        vertical-align: middle;\n",
       "    }\n",
       "\n",
       "    .dataframe tbody tr th {\n",
       "        vertical-align: top;\n",
       "    }\n",
       "\n",
       "    .dataframe thead th {\n",
       "        text-align: right;\n",
       "    }\n",
       "</style>\n",
       "<table border=\"1\" class=\"dataframe\">\n",
       "  <thead>\n",
       "    <tr style=\"text-align: right;\">\n",
       "      <th></th>\n",
       "      <th>Open</th>\n",
       "      <th>High</th>\n",
       "      <th>Low</th>\n",
       "      <th>Close</th>\n",
       "      <th>Adj Close</th>\n",
       "      <th>Volume</th>\n",
       "      <th>3MA</th>\n",
       "      <th>5MA</th>\n",
       "    </tr>\n",
       "  </thead>\n",
       "  <tbody>\n",
       "    <tr>\n",
       "      <th>count</th>\n",
       "      <td>5737.000000</td>\n",
       "      <td>5737.000000</td>\n",
       "      <td>5737.000000</td>\n",
       "      <td>5737.000000</td>\n",
       "      <td>5737.000000</td>\n",
       "      <td>5.737000e+03</td>\n",
       "      <td>5734.000000</td>\n",
       "      <td>5732.000000</td>\n",
       "    </tr>\n",
       "    <tr>\n",
       "      <th>mean</th>\n",
       "      <td>25579.056998</td>\n",
       "      <td>25836.580094</td>\n",
       "      <td>25317.380164</td>\n",
       "      <td>25574.404741</td>\n",
       "      <td>22206.308708</td>\n",
       "      <td>2.163846e+07</td>\n",
       "      <td>22195.727342</td>\n",
       "      <td>22192.139078</td>\n",
       "    </tr>\n",
       "    <tr>\n",
       "      <th>std</th>\n",
       "      <td>20488.705307</td>\n",
       "      <td>20658.432729</td>\n",
       "      <td>20313.394177</td>\n",
       "      <td>20474.815859</td>\n",
       "      <td>19999.029964</td>\n",
       "      <td>1.533788e+07</td>\n",
       "      <td>19986.893381</td>\n",
       "      <td>19980.399929</td>\n",
       "    </tr>\n",
       "    <tr>\n",
       "      <th>min</th>\n",
       "      <td>2540.000000</td>\n",
       "      <td>2760.000000</td>\n",
       "      <td>2420.000000</td>\n",
       "      <td>2730.000000</td>\n",
       "      <td>2051.707031</td>\n",
       "      <td>0.000000e+00</td>\n",
       "      <td>2096.799398</td>\n",
       "      <td>2111.830078</td>\n",
       "    </tr>\n",
       "    <tr>\n",
       "      <th>25%</th>\n",
       "      <td>10280.000000</td>\n",
       "      <td>10420.000000</td>\n",
       "      <td>10140.000000</td>\n",
       "      <td>10320.000000</td>\n",
       "      <td>7816.028320</td>\n",
       "      <td>1.179825e+07</td>\n",
       "      <td>7822.342611</td>\n",
       "      <td>7818.375171</td>\n",
       "    </tr>\n",
       "    <tr>\n",
       "      <th>50%</th>\n",
       "      <td>17240.000000</td>\n",
       "      <td>17460.000000</td>\n",
       "      <td>17020.000000</td>\n",
       "      <td>17200.000000</td>\n",
       "      <td>13620.248050</td>\n",
       "      <td>1.760500e+07</td>\n",
       "      <td>13616.384115</td>\n",
       "      <td>13595.703320</td>\n",
       "    </tr>\n",
       "    <tr>\n",
       "      <th>75%</th>\n",
       "      <td>36260.000000</td>\n",
       "      <td>36440.000000</td>\n",
       "      <td>36020.000000</td>\n",
       "      <td>36180.000000</td>\n",
       "      <td>30765.562500</td>\n",
       "      <td>2.681515e+07</td>\n",
       "      <td>30656.198890</td>\n",
       "      <td>30670.543460</td>\n",
       "    </tr>\n",
       "    <tr>\n",
       "      <th>max</th>\n",
       "      <td>90300.000000</td>\n",
       "      <td>96800.000000</td>\n",
       "      <td>89500.000000</td>\n",
       "      <td>91000.000000</td>\n",
       "      <td>87764.804690</td>\n",
       "      <td>1.642150e+08</td>\n",
       "      <td>87218.276040</td>\n",
       "      <td>86761.767190</td>\n",
       "    </tr>\n",
       "  </tbody>\n",
       "</table>\n",
       "</div>"
      ],
      "text/plain": [
       "               Open          High           Low         Close     Adj Close  \\\n",
       "count   5737.000000   5737.000000   5737.000000   5737.000000   5737.000000   \n",
       "mean   25579.056998  25836.580094  25317.380164  25574.404741  22206.308708   \n",
       "std    20488.705307  20658.432729  20313.394177  20474.815859  19999.029964   \n",
       "min     2540.000000   2760.000000   2420.000000   2730.000000   2051.707031   \n",
       "25%    10280.000000  10420.000000  10140.000000  10320.000000   7816.028320   \n",
       "50%    17240.000000  17460.000000  17020.000000  17200.000000  13620.248050   \n",
       "75%    36260.000000  36440.000000  36020.000000  36180.000000  30765.562500   \n",
       "max    90300.000000  96800.000000  89500.000000  91000.000000  87764.804690   \n",
       "\n",
       "             Volume           3MA           5MA  \n",
       "count  5.737000e+03   5734.000000   5732.000000  \n",
       "mean   2.163846e+07  22195.727342  22192.139078  \n",
       "std    1.533788e+07  19986.893381  19980.399929  \n",
       "min    0.000000e+00   2096.799398   2111.830078  \n",
       "25%    1.179825e+07   7822.342611   7818.375171  \n",
       "50%    1.760500e+07  13616.384115  13595.703320  \n",
       "75%    2.681515e+07  30656.198890  30670.543460  \n",
       "max    1.642150e+08  87218.276040  86761.767190  "
      ]
     },
     "execution_count": 4,
     "metadata": {},
     "output_type": "execute_result"
    }
   ],
   "source": [
    "# 통계정보 확인\n",
    "raw_df.describe()"
   ]
  },
  {
   "cell_type": "code",
   "execution_count": 5,
   "metadata": {},
   "outputs": [
    {
     "data": {
      "text/plain": [
       "Date         0\n",
       "Open         0\n",
       "High         0\n",
       "Low          0\n",
       "Close        0\n",
       "Adj Close    0\n",
       "Volume       0\n",
       "3MA          3\n",
       "5MA          5\n",
       "dtype: int64"
      ]
     },
     "execution_count": 5,
     "metadata": {},
     "output_type": "execute_result"
    }
   ],
   "source": [
    "# null값 확인\n",
    "raw_df.isnull().sum()"
   ]
  },
  {
   "cell_type": "code",
   "execution_count": 6,
   "metadata": {},
   "outputs": [
    {
     "name": "stdout",
     "output_type": "stream",
     "text": [
      "Volume <class 'str'>\n"
     ]
    }
   ],
   "source": [
    "# 최소값이 0인 column 확인\n",
    "for col in raw_df.columns:\n",
    "    if raw_df[col].min() == 0:\n",
    "        col_name = col\n",
    "        print(col_name, type(col_name))"
   ]
  },
  {
   "cell_type": "code",
   "execution_count": 7,
   "metadata": {},
   "outputs": [
    {
     "data": {
      "text/html": [
       "<div>\n",
       "<style scoped>\n",
       "    .dataframe tbody tr th:only-of-type {\n",
       "        vertical-align: middle;\n",
       "    }\n",
       "\n",
       "    .dataframe tbody tr th {\n",
       "        vertical-align: top;\n",
       "    }\n",
       "\n",
       "    .dataframe thead th {\n",
       "        text-align: right;\n",
       "    }\n",
       "</style>\n",
       "<table border=\"1\" class=\"dataframe\">\n",
       "  <thead>\n",
       "    <tr style=\"text-align: right;\">\n",
       "      <th></th>\n",
       "      <th>Date</th>\n",
       "      <th>Open</th>\n",
       "      <th>High</th>\n",
       "      <th>Low</th>\n",
       "      <th>Close</th>\n",
       "      <th>Adj Close</th>\n",
       "      <th>Volume</th>\n",
       "      <th>3MA</th>\n",
       "      <th>5MA</th>\n",
       "    </tr>\n",
       "  </thead>\n",
       "  <tbody>\n",
       "    <tr>\n",
       "      <th>23</th>\n",
       "      <td>2000-02-04</td>\n",
       "      <td>5130</td>\n",
       "      <td>5130</td>\n",
       "      <td>5130</td>\n",
       "      <td>5130</td>\n",
       "      <td>3855.405762</td>\n",
       "      <td>0</td>\n",
       "      <td>3933.065023</td>\n",
       "      <td>4073.352881</td>\n",
       "    </tr>\n",
       "    <tr>\n",
       "      <th>41</th>\n",
       "      <td>2000-03-01</td>\n",
       "      <td>5120</td>\n",
       "      <td>5120</td>\n",
       "      <td>5120</td>\n",
       "      <td>5120</td>\n",
       "      <td>3847.891113</td>\n",
       "      <td>0</td>\n",
       "      <td>3767.726644</td>\n",
       "      <td>3795.282910</td>\n",
       "    </tr>\n",
       "    <tr>\n",
       "      <th>66</th>\n",
       "      <td>2000-04-05</td>\n",
       "      <td>6800</td>\n",
       "      <td>6800</td>\n",
       "      <td>6800</td>\n",
       "      <td>6800</td>\n",
       "      <td>5110.478516</td>\n",
       "      <td>0</td>\n",
       "      <td>5160.582194</td>\n",
       "      <td>5307.383008</td>\n",
       "    </tr>\n",
       "    <tr>\n",
       "      <th>72</th>\n",
       "      <td>2000-04-13</td>\n",
       "      <td>6910</td>\n",
       "      <td>6910</td>\n",
       "      <td>6910</td>\n",
       "      <td>6910</td>\n",
       "      <td>5193.148926</td>\n",
       "      <td>0</td>\n",
       "      <td>5338.446778</td>\n",
       "      <td>5289.345801</td>\n",
       "    </tr>\n",
       "    <tr>\n",
       "      <th>84</th>\n",
       "      <td>2000-05-01</td>\n",
       "      <td>6000</td>\n",
       "      <td>6000</td>\n",
       "      <td>6000</td>\n",
       "      <td>6000</td>\n",
       "      <td>4509.247070</td>\n",
       "      <td>0</td>\n",
       "      <td>4258.733236</td>\n",
       "      <td>4274.766504</td>\n",
       "    </tr>\n",
       "    <tr>\n",
       "      <th>...</th>\n",
       "      <td>...</td>\n",
       "      <td>...</td>\n",
       "      <td>...</td>\n",
       "      <td>...</td>\n",
       "      <td>...</td>\n",
       "      <td>...</td>\n",
       "      <td>...</td>\n",
       "      <td>...</td>\n",
       "      <td>...</td>\n",
       "    </tr>\n",
       "    <tr>\n",
       "      <th>5564</th>\n",
       "      <td>2022-02-28</td>\n",
       "      <td>71900</td>\n",
       "      <td>71900</td>\n",
       "      <td>71900</td>\n",
       "      <td>71900</td>\n",
       "      <td>70610.359380</td>\n",
       "      <td>0</td>\n",
       "      <td>71265.070310</td>\n",
       "      <td>71945.967190</td>\n",
       "    </tr>\n",
       "    <tr>\n",
       "      <th>5567</th>\n",
       "      <td>2022-03-04</td>\n",
       "      <td>72900</td>\n",
       "      <td>72900</td>\n",
       "      <td>72900</td>\n",
       "      <td>72900</td>\n",
       "      <td>71592.437500</td>\n",
       "      <td>0</td>\n",
       "      <td>70872.250000</td>\n",
       "      <td>70688.929690</td>\n",
       "    </tr>\n",
       "    <tr>\n",
       "      <th>5570</th>\n",
       "      <td>2022-03-10</td>\n",
       "      <td>69500</td>\n",
       "      <td>69500</td>\n",
       "      <td>69500</td>\n",
       "      <td>69500</td>\n",
       "      <td>68253.414060</td>\n",
       "      <td>0</td>\n",
       "      <td>69562.835940</td>\n",
       "      <td>70138.979690</td>\n",
       "    </tr>\n",
       "    <tr>\n",
       "      <th>5573</th>\n",
       "      <td>2022-03-15</td>\n",
       "      <td>70200</td>\n",
       "      <td>70200</td>\n",
       "      <td>70200</td>\n",
       "      <td>70200</td>\n",
       "      <td>68940.859380</td>\n",
       "      <td>0</td>\n",
       "      <td>68646.239580</td>\n",
       "      <td>68606.957810</td>\n",
       "    </tr>\n",
       "    <tr>\n",
       "      <th>5575</th>\n",
       "      <td>2022-03-17</td>\n",
       "      <td>70400</td>\n",
       "      <td>70400</td>\n",
       "      <td>70400</td>\n",
       "      <td>70400</td>\n",
       "      <td>69137.265630</td>\n",
       "      <td>0</td>\n",
       "      <td>69006.328130</td>\n",
       "      <td>68803.368750</td>\n",
       "    </tr>\n",
       "  </tbody>\n",
       "</table>\n",
       "<p>127 rows × 9 columns</p>\n",
       "</div>"
      ],
      "text/plain": [
       "            Date   Open   High    Low  Close     Adj Close  Volume  \\\n",
       "23    2000-02-04   5130   5130   5130   5130   3855.405762       0   \n",
       "41    2000-03-01   5120   5120   5120   5120   3847.891113       0   \n",
       "66    2000-04-05   6800   6800   6800   6800   5110.478516       0   \n",
       "72    2000-04-13   6910   6910   6910   6910   5193.148926       0   \n",
       "84    2000-05-01   6000   6000   6000   6000   4509.247070       0   \n",
       "...          ...    ...    ...    ...    ...           ...     ...   \n",
       "5564  2022-02-28  71900  71900  71900  71900  70610.359380       0   \n",
       "5567  2022-03-04  72900  72900  72900  72900  71592.437500       0   \n",
       "5570  2022-03-10  69500  69500  69500  69500  68253.414060       0   \n",
       "5573  2022-03-15  70200  70200  70200  70200  68940.859380       0   \n",
       "5575  2022-03-17  70400  70400  70400  70400  69137.265630       0   \n",
       "\n",
       "               3MA           5MA  \n",
       "23     3933.065023   4073.352881  \n",
       "41     3767.726644   3795.282910  \n",
       "66     5160.582194   5307.383008  \n",
       "72     5338.446778   5289.345801  \n",
       "84     4258.733236   4274.766504  \n",
       "...            ...           ...  \n",
       "5564  71265.070310  71945.967190  \n",
       "5567  70872.250000  70688.929690  \n",
       "5570  69562.835940  70138.979690  \n",
       "5573  68646.239580  68606.957810  \n",
       "5575  69006.328130  68803.368750  \n",
       "\n",
       "[127 rows x 9 columns]"
      ]
     },
     "execution_count": 7,
     "metadata": {},
     "output_type": "execute_result"
    }
   ],
   "source": [
    "raw_df.loc[raw_df['Volume'] == 0]"
   ]
  },
  {
   "cell_type": "code",
   "execution_count": 8,
   "metadata": {},
   "outputs": [
    {
     "name": "stdout",
     "output_type": "stream",
     "text": [
      "Date : 0\n",
      "Open : 0\n",
      "High : 0\n",
      "Low : 0\n",
      "Close : 0\n",
      "Adj Close : 0\n",
      "Volume : 127\n",
      "3MA : 0\n",
      "5MA : 0\n"
     ]
    }
   ],
   "source": [
    "# 각 column의 0 갯수 확인\n",
    "for col in raw_df.columns:\n",
    "    missing_rows = raw_df.loc[raw_df[col] == 0].shape[0]\n",
    "    print(col, ':', str(missing_rows))"
   ]
  },
  {
   "cell_type": "code",
   "execution_count": 9,
   "metadata": {},
   "outputs": [
    {
     "name": "stdout",
     "output_type": "stream",
     "text": [
      "Date : 0\n",
      "Open : 0\n",
      "High : 0\n",
      "Low : 0\n",
      "Close : 0\n",
      "Adj Close : 0\n",
      "Volume : 0\n",
      "3MA : 0\n",
      "5MA : 0\n"
     ]
    }
   ],
   "source": [
    "# Volume의 0값을 NaN으로 모두 대체\n",
    "raw_df['Volume'] = raw_df['Volume'].replace(0, np.nan)\n",
    "\n",
    "# 각 column의 0 갯수 재확인\n",
    "for col in raw_df.columns:\n",
    "    missing_rows = raw_df.loc[raw_df[col] == 0].shape[0]\n",
    "    print(col, ':', str(missing_rows))"
   ]
  },
  {
   "cell_type": "code",
   "execution_count": 10,
   "metadata": {},
   "outputs": [
    {
     "data": {
      "text/plain": [
       "Date           0\n",
       "Open           0\n",
       "High           0\n",
       "Low            0\n",
       "Close          0\n",
       "Adj Close      0\n",
       "Volume       127\n",
       "3MA            3\n",
       "5MA            5\n",
       "dtype: int64"
      ]
     },
     "execution_count": 10,
     "metadata": {},
     "output_type": "execute_result"
    }
   ],
   "source": [
    "# null값 재확인\n",
    "raw_df.isnull().sum()"
   ]
  },
  {
   "cell_type": "code",
   "execution_count": 11,
   "metadata": {},
   "outputs": [
    {
     "data": {
      "text/plain": [
       "Date         False\n",
       "Open         False\n",
       "High         False\n",
       "Low          False\n",
       "Close        False\n",
       "Adj Close    False\n",
       "Volume        True\n",
       "3MA           True\n",
       "5MA           True\n",
       "dtype: bool"
      ]
     },
     "execution_count": 11,
     "metadata": {},
     "output_type": "execute_result"
    }
   ],
   "source": [
    "# null값 포함된 column 찾기\n",
    "raw_df.isnull().any()"
   ]
  },
  {
   "cell_type": "code",
   "execution_count": 12,
   "metadata": {},
   "outputs": [],
   "source": [
    "# null값(NaN) 모두 제거하기\n",
    "raw_df = raw_df.dropna()"
   ]
  },
  {
   "cell_type": "code",
   "execution_count": 13,
   "metadata": {},
   "outputs": [
    {
     "data": {
      "text/plain": [
       "Date         0\n",
       "Open         0\n",
       "High         0\n",
       "Low          0\n",
       "Close        0\n",
       "Adj Close    0\n",
       "Volume       0\n",
       "3MA          0\n",
       "5MA          0\n",
       "dtype: int64"
      ]
     },
     "execution_count": 13,
     "metadata": {},
     "output_type": "execute_result"
    }
   ],
   "source": [
    "raw_df.isnull().sum()"
   ]
  },
  {
   "cell_type": "code",
   "execution_count": 14,
   "metadata": {},
   "outputs": [
    {
     "name": "stdout",
     "output_type": "stream",
     "text": [
      "          Open      High       Low     Close  Adj Close    Volume       3MA  \\\n",
      "0     0.037375  0.035517  0.038470  0.034440   0.026655  0.363715  0.025192   \n",
      "1     0.034982  0.031689  0.036518  0.033873   0.026217  0.177799  0.025634   \n",
      "2     0.034868  0.031689  0.036059  0.033760   0.026129  0.250704  0.026163   \n",
      "3     0.036235  0.033177  0.037437  0.035120   0.027181  0.300555  0.025987   \n",
      "4     0.039426  0.036368  0.040193  0.038178   0.029548  0.386615  0.026163   \n",
      "...        ...       ...       ...       ...        ...       ...       ...   \n",
      "5600  0.644485  0.603360  0.642857  0.642007   0.669073  0.075634  0.675543   \n",
      "5601  0.651322  0.611867  0.654341  0.651071   0.678406  0.075582  0.673193   \n",
      "5602  0.660438  0.628881  0.666973  0.669197   0.697073  0.111131  0.675543   \n",
      "5603  0.677530  0.632071  0.676160  0.671463   0.699406  0.085378  0.685724   \n",
      "5604  0.670693  0.624628  0.669270  0.659001   0.686573  0.054940  0.695906   \n",
      "\n",
      "           5MA  \n",
      "0     0.025871  \n",
      "1     0.025267  \n",
      "2     0.025516  \n",
      "3     0.025676  \n",
      "4     0.026191  \n",
      "...        ...  \n",
      "5600  0.673222  \n",
      "5601  0.678183  \n",
      "5602  0.680073  \n",
      "5603  0.684326  \n",
      "5604  0.689997  \n",
      "\n",
      "[5605 rows x 8 columns]\n"
     ]
    }
   ],
   "source": [
    "# 정규화(0 ~ 1 사이 값으로 변환)\n",
    "from sklearn.preprocessing import MinMaxScaler\n",
    "\n",
    "scalar = MinMaxScaler()\n",
    "scale_cols = ['Open', 'High', 'Low', 'Close',\n",
    "              'Adj Close', 'Volume', '3MA', '5MA']\n",
    "\n",
    "scaled_df = scalar.fit_transform(raw_df[scale_cols])\n",
    "scaled_df = pd.DataFrame(scaled_df, columns=scale_cols)\n",
    "print(scaled_df)"
   ]
  },
  {
   "cell_type": "code",
   "execution_count": 15,
   "metadata": {},
   "outputs": [],
   "source": [
    "def make_sequence_dataset(feature, label, window_size):\n",
    "    feature_list = []\n",
    "    label_list = []\n",
    "\n",
    "    for i in range(len(feature) - window_size):\n",
    "        feature_list.append(feature[i: i + window_size])\n",
    "        label_list.append(label[i + window_size])\n",
    "\n",
    "    return np.array(feature_list), np.array(label_list)"
   ]
  },
  {
   "cell_type": "code",
   "execution_count": 16,
   "metadata": {},
   "outputs": [],
   "source": [
    "feature_cols = ['3MA', '5MA', 'Adj Close']\n",
    "label_cols = ['Adj Close']\n",
    "\n",
    "feature_df = pd.DataFrame(scaled_df, columns=feature_cols)\n",
    "label_df = pd.DataFrame(scaled_df, columns=label_cols)"
   ]
  },
  {
   "cell_type": "code",
   "execution_count": 17,
   "metadata": {},
   "outputs": [
    {
     "data": {
      "text/html": [
       "<div>\n",
       "<style scoped>\n",
       "    .dataframe tbody tr th:only-of-type {\n",
       "        vertical-align: middle;\n",
       "    }\n",
       "\n",
       "    .dataframe tbody tr th {\n",
       "        vertical-align: top;\n",
       "    }\n",
       "\n",
       "    .dataframe thead th {\n",
       "        text-align: right;\n",
       "    }\n",
       "</style>\n",
       "<table border=\"1\" class=\"dataframe\">\n",
       "  <thead>\n",
       "    <tr style=\"text-align: right;\">\n",
       "      <th></th>\n",
       "      <th>3MA</th>\n",
       "      <th>5MA</th>\n",
       "      <th>Adj Close</th>\n",
       "    </tr>\n",
       "  </thead>\n",
       "  <tbody>\n",
       "    <tr>\n",
       "      <th>0</th>\n",
       "      <td>0.025192</td>\n",
       "      <td>0.025871</td>\n",
       "      <td>0.026655</td>\n",
       "    </tr>\n",
       "    <tr>\n",
       "      <th>1</th>\n",
       "      <td>0.025634</td>\n",
       "      <td>0.025267</td>\n",
       "      <td>0.026217</td>\n",
       "    </tr>\n",
       "    <tr>\n",
       "      <th>2</th>\n",
       "      <td>0.026163</td>\n",
       "      <td>0.025516</td>\n",
       "      <td>0.026129</td>\n",
       "    </tr>\n",
       "    <tr>\n",
       "      <th>3</th>\n",
       "      <td>0.025987</td>\n",
       "      <td>0.025676</td>\n",
       "      <td>0.027181</td>\n",
       "    </tr>\n",
       "    <tr>\n",
       "      <th>4</th>\n",
       "      <td>0.026163</td>\n",
       "      <td>0.026191</td>\n",
       "      <td>0.029548</td>\n",
       "    </tr>\n",
       "  </tbody>\n",
       "</table>\n",
       "</div>"
      ],
      "text/plain": [
       "        3MA       5MA  Adj Close\n",
       "0  0.025192  0.025871   0.026655\n",
       "1  0.025634  0.025267   0.026217\n",
       "2  0.026163  0.025516   0.026129\n",
       "3  0.025987  0.025676   0.027181\n",
       "4  0.026163  0.026191   0.029548"
      ]
     },
     "execution_count": 17,
     "metadata": {},
     "output_type": "execute_result"
    }
   ],
   "source": [
    "feature_df.head()"
   ]
  },
  {
   "cell_type": "code",
   "execution_count": 18,
   "metadata": {},
   "outputs": [
    {
     "data": {
      "text/html": [
       "<div>\n",
       "<style scoped>\n",
       "    .dataframe tbody tr th:only-of-type {\n",
       "        vertical-align: middle;\n",
       "    }\n",
       "\n",
       "    .dataframe tbody tr th {\n",
       "        vertical-align: top;\n",
       "    }\n",
       "\n",
       "    .dataframe thead th {\n",
       "        text-align: right;\n",
       "    }\n",
       "</style>\n",
       "<table border=\"1\" class=\"dataframe\">\n",
       "  <thead>\n",
       "    <tr style=\"text-align: right;\">\n",
       "      <th></th>\n",
       "      <th>Adj Close</th>\n",
       "    </tr>\n",
       "  </thead>\n",
       "  <tbody>\n",
       "    <tr>\n",
       "      <th>0</th>\n",
       "      <td>0.026655</td>\n",
       "    </tr>\n",
       "    <tr>\n",
       "      <th>1</th>\n",
       "      <td>0.026217</td>\n",
       "    </tr>\n",
       "    <tr>\n",
       "      <th>2</th>\n",
       "      <td>0.026129</td>\n",
       "    </tr>\n",
       "    <tr>\n",
       "      <th>3</th>\n",
       "      <td>0.027181</td>\n",
       "    </tr>\n",
       "    <tr>\n",
       "      <th>4</th>\n",
       "      <td>0.029548</td>\n",
       "    </tr>\n",
       "  </tbody>\n",
       "</table>\n",
       "</div>"
      ],
      "text/plain": [
       "   Adj Close\n",
       "0   0.026655\n",
       "1   0.026217\n",
       "2   0.026129\n",
       "3   0.027181\n",
       "4   0.029548"
      ]
     },
     "execution_count": 18,
     "metadata": {},
     "output_type": "execute_result"
    }
   ],
   "source": [
    "label_df.head()"
   ]
  },
  {
   "cell_type": "code",
   "execution_count": 19,
   "metadata": {},
   "outputs": [
    {
     "name": "stdout",
     "output_type": "stream",
     "text": [
      "(5605, 3) (5605, 1)\n"
     ]
    }
   ],
   "source": [
    "# dataframe을 numpy로 변환\n",
    "feature_np = feature_df.to_numpy()\n",
    "label_np = label_df.to_numpy()\n",
    "\n",
    "print(feature_np.shape, label_np.shape)"
   ]
  },
  {
   "cell_type": "code",
   "execution_count": 20,
   "metadata": {},
   "outputs": [
    {
     "name": "stdout",
     "output_type": "stream",
     "text": [
      "(5565, 40, 3) (5565, 1)\n"
     ]
    }
   ],
   "source": [
    "# 학습 데이터 생성\n",
    "window_size = 40\n",
    "\n",
    "X, Y = make_sequence_dataset(feature_np, label_np, window_size)\n",
    "print(X.shape, Y.shape)"
   ]
  },
  {
   "cell_type": "code",
   "execution_count": 21,
   "metadata": {},
   "outputs": [
    {
     "name": "stdout",
     "output_type": "stream",
     "text": [
      "(5286, 40, 3) (5286, 1) (279, 40, 3) (279, 1)\n"
     ]
    }
   ],
   "source": [
    "split_ratio = 0.95\n",
    "split = int(split_ratio * len(X))\n",
    "\n",
    "x_train = X[0:split]\n",
    "y_train = Y[0:split]\n",
    "\n",
    "x_test = X[split:]\n",
    "y_test = Y[split:]\n",
    "\n",
    "print(x_train.shape, y_train.shape, x_test.shape, y_test.shape)"
   ]
  },
  {
   "cell_type": "code",
   "execution_count": 22,
   "metadata": {},
   "outputs": [
    {
     "name": "stdout",
     "output_type": "stream",
     "text": [
      "Model: \"sequential\"\n",
      "_________________________________________________________________\n",
      " Layer (type)                Output Shape              Param #   \n",
      "=================================================================\n",
      " lstm (LSTM)                 (None, 128)               67584     \n",
      "                                                                 \n",
      " dense (Dense)               (None, 1)                 129       \n",
      "                                                                 \n",
      "=================================================================\n",
      "Total params: 67,713\n",
      "Trainable params: 67,713\n",
      "Non-trainable params: 0\n",
      "_________________________________________________________________\n"
     ]
    }
   ],
   "source": [
    "model = Sequential()\n",
    "model.add(LSTM(units=128, activation='tanh',\n",
    "               input_shape=x_train[0].shape))\n",
    "                            # x_train[0].shape = (40, 3)\n",
    "model.add(Dense(1, activation='linear'))\n",
    "model.compile(loss='mse', optimizer=Adam(), metrics=['mae'])\n",
    "model.summary()"
   ]
  },
  {
   "cell_type": "code",
   "execution_count": 23,
   "metadata": {},
   "outputs": [
    {
     "name": "stdout",
     "output_type": "stream",
     "text": [
      "Epoch 1/300\n",
      "331/331 [==============================] - 6s 13ms/step - loss: 7.9037e-04 - mae: 0.0110 - val_loss: 4.4774e-04 - val_mae: 0.0168\n",
      "Epoch 2/300\n",
      "331/331 [==============================] - 4s 12ms/step - loss: 1.4882e-04 - mae: 0.0075 - val_loss: 3.5999e-04 - val_mae: 0.0147\n",
      "Epoch 3/300\n",
      "331/331 [==============================] - 4s 12ms/step - loss: 1.2135e-04 - mae: 0.0070 - val_loss: 3.0879e-04 - val_mae: 0.0137\n",
      "Epoch 4/300\n",
      "331/331 [==============================] - 4s 12ms/step - loss: 1.2584e-04 - mae: 0.0070 - val_loss: 2.9367e-04 - val_mae: 0.0134\n",
      "Epoch 5/300\n",
      "331/331 [==============================] - 4s 12ms/step - loss: 9.4301e-05 - mae: 0.0061 - val_loss: 2.9443e-04 - val_mae: 0.0137\n",
      "Epoch 6/300\n",
      "331/331 [==============================] - 4s 12ms/step - loss: 9.0028e-05 - mae: 0.0061 - val_loss: 4.1362e-04 - val_mae: 0.0165\n",
      "Epoch 7/300\n",
      "331/331 [==============================] - 4s 12ms/step - loss: 7.9807e-05 - mae: 0.0057 - val_loss: 2.5125e-04 - val_mae: 0.0125\n",
      "Epoch 8/300\n",
      "331/331 [==============================] - 4s 13ms/step - loss: 7.6162e-05 - mae: 0.0058 - val_loss: 2.6233e-04 - val_mae: 0.0133\n",
      "Epoch 9/300\n",
      "331/331 [==============================] - 4s 12ms/step - loss: 7.3037e-05 - mae: 0.0055 - val_loss: 2.6941e-04 - val_mae: 0.0135\n",
      "Epoch 10/300\n",
      "331/331 [==============================] - 4s 12ms/step - loss: 6.5120e-05 - mae: 0.0052 - val_loss: 2.2144e-04 - val_mae: 0.0121\n",
      "Epoch 11/300\n",
      "331/331 [==============================] - 4s 12ms/step - loss: 6.4964e-05 - mae: 0.0052 - val_loss: 2.3832e-04 - val_mae: 0.0126\n",
      "Epoch 12/300\n",
      "331/331 [==============================] - 4s 12ms/step - loss: 5.9248e-05 - mae: 0.0050 - val_loss: 2.0257e-04 - val_mae: 0.0115\n",
      "Epoch 13/300\n",
      "331/331 [==============================] - 4s 12ms/step - loss: 5.1254e-05 - mae: 0.0047 - val_loss: 1.5155e-04 - val_mae: 0.0097\n",
      "Epoch 14/300\n",
      "331/331 [==============================] - 4s 12ms/step - loss: 5.5205e-05 - mae: 0.0048 - val_loss: 3.4233e-04 - val_mae: 0.0159\n",
      "Epoch 15/300\n",
      "331/331 [==============================] - 4s 12ms/step - loss: 5.0227e-05 - mae: 0.0046 - val_loss: 1.5185e-04 - val_mae: 0.0094\n",
      "Epoch 16/300\n",
      "331/331 [==============================] - 4s 12ms/step - loss: 4.4400e-05 - mae: 0.0044 - val_loss: 1.6596e-04 - val_mae: 0.0098\n",
      "Epoch 17/300\n",
      "331/331 [==============================] - 4s 12ms/step - loss: 4.5712e-05 - mae: 0.0044 - val_loss: 1.5229e-04 - val_mae: 0.0095\n",
      "Epoch 18/300\n",
      "331/331 [==============================] - 4s 12ms/step - loss: 4.2903e-05 - mae: 0.0042 - val_loss: 1.4997e-04 - val_mae: 0.0097\n",
      "Epoch 19/300\n",
      "331/331 [==============================] - 4s 12ms/step - loss: 4.0043e-05 - mae: 0.0041 - val_loss: 1.8188e-04 - val_mae: 0.0110\n",
      "Epoch 20/300\n",
      "331/331 [==============================] - 4s 12ms/step - loss: 3.8236e-05 - mae: 0.0040 - val_loss: 1.2276e-04 - val_mae: 0.0085\n",
      "Epoch 21/300\n",
      "331/331 [==============================] - 4s 12ms/step - loss: 4.7067e-05 - mae: 0.0046 - val_loss: 1.1948e-04 - val_mae: 0.0083\n",
      "Epoch 22/300\n",
      "331/331 [==============================] - 4s 12ms/step - loss: 4.0614e-05 - mae: 0.0042 - val_loss: 2.5599e-04 - val_mae: 0.0129\n",
      "Epoch 23/300\n",
      "331/331 [==============================] - 4s 13ms/step - loss: 4.1647e-05 - mae: 0.0042 - val_loss: 1.1970e-04 - val_mae: 0.0083\n",
      "Epoch 24/300\n",
      "331/331 [==============================] - 4s 13ms/step - loss: 3.6487e-05 - mae: 0.0040 - val_loss: 3.1785e-04 - val_mae: 0.0156\n",
      "Epoch 25/300\n",
      "331/331 [==============================] - 4s 13ms/step - loss: 4.4102e-05 - mae: 0.0043 - val_loss: 1.1952e-04 - val_mae: 0.0083\n",
      "Epoch 26/300\n",
      "331/331 [==============================] - 4s 13ms/step - loss: 4.2638e-05 - mae: 0.0043 - val_loss: 1.6748e-04 - val_mae: 0.0105\n",
      "Epoch 27/300\n",
      "331/331 [==============================] - 4s 13ms/step - loss: 3.5821e-05 - mae: 0.0039 - val_loss: 1.2873e-04 - val_mae: 0.0086\n",
      "Epoch 28/300\n",
      "331/331 [==============================] - 4s 12ms/step - loss: 4.1291e-05 - mae: 0.0042 - val_loss: 2.4234e-04 - val_mae: 0.0132\n",
      "Epoch 29/300\n",
      "331/331 [==============================] - 4s 12ms/step - loss: 3.5490e-05 - mae: 0.0038 - val_loss: 2.3486e-04 - val_mae: 0.0129\n",
      "Epoch 30/300\n",
      "331/331 [==============================] - 4s 12ms/step - loss: 3.8095e-05 - mae: 0.0041 - val_loss: 1.2215e-04 - val_mae: 0.0083\n",
      "Epoch 31/300\n",
      "331/331 [==============================] - 4s 12ms/step - loss: 3.5998e-05 - mae: 0.0039 - val_loss: 1.3496e-04 - val_mae: 0.0088\n"
     ]
    },
    {
     "data": {
      "text/plain": [
       "<keras.callbacks.History at 0x24685f70ee0>"
      ]
     },
     "execution_count": 23,
     "metadata": {},
     "output_type": "execute_result"
    }
   ],
   "source": [
    "early_stop = EarlyStopping(monitor='val_loss', patience=10)\n",
    "model.fit(x_train, y_train, validation_data=(x_test, y_test),\n",
    "          epochs=300, batch_size=16, callbacks=[early_stop])"
   ]
  },
  {
   "cell_type": "code",
   "execution_count": 24,
   "metadata": {},
   "outputs": [
    {
     "name": "stdout",
     "output_type": "stream",
     "text": [
      "9/9 [==============================] - 0s 6ms/step\n"
     ]
    },
    {
     "data": {
      "image/png": "[encoded data removed]",
      "text/plain": [
       "<Figure size 864x432 with 1 Axes>"
      ]
     },
     "metadata": {
      "needs_background": "light"
     },
     "output_type": "display_data"
    }
   ],
   "source": [
    "pred = model.predict(x_test)\n",
    "\n",
    "plt.figure(figsize=(12, 6))\n",
    "plt.xlabel('period')\n",
    "plt.ylabel('adj close')\n",
    "plt.plot(pred, label='prediction')\n",
    "plt.plot(y_test, label='actual')\n",
    "plt.grid()\n",
    "plt.legend(loc='best')\n",
    "plt.show()\n",
    "\n",
    "# test_data 5%(최근날짜)로 그린 그래프 = 최신일 변동 추이 예상"
   ]
  },
  {
   "cell_type": "code",
   "execution_count": 25,
   "metadata": {},
   "outputs": [
    {
     "name": "stdout",
     "output_type": "stream",
     "text": [
      "0.011879836748399226\n"
     ]
    }
   ],
   "source": [
    "# 평균 절대값 백분율 오차 계산(MAPE)\n",
    "print(np.sum(abs(y_test-pred)/y_test)/len(x_test))"
   ]
  }
 ],
 "metadata": {
  "kernelspec": {
   "display_name": "Python 3.8.8 ('base')",
   "language": "python",
   "name": "python3"
  },
  "language_info": {
   "codemirror_mode": {
    "name": "ipython",
    "version": 3
   },
   "file_extension": ".py",
   "mimetype": "text/x-python",
   "name": "python",
   "nbconvert_exporter": "python",
   "pygments_lexer": "ipython3",
   "version": "3.8.8"
  },
  "orig_nbformat": 4,
  "vscode": {
   "interpreter": {
    "hash": "610a6f344c2137faf927ea819c63f6cee33a2c04455044b28099f39fe9722347"
   }
  }
 },
 "nbformat": 4,
 "nbformat_minor": 2
}
