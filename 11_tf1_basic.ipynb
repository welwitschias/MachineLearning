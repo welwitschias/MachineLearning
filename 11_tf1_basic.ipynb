{
 "cells": [
  {
   "cell_type": "code",
   "execution_count": 1,
   "metadata": {},
   "outputs": [
    {
     "data": {
      "text/plain": [
       "'2.10.0'"
      ]
     },
     "execution_count": 1,
     "metadata": {},
     "output_type": "execute_result"
    }
   ],
   "source": [
    "import tensorflow as tf\n",
    "tf.__version__  # 버전 확인"
   ]
  },
  {
   "cell_type": "code",
   "execution_count": 2,
   "metadata": {},
   "outputs": [
    {
     "name": "stdout",
     "output_type": "stream",
     "text": [
      "WARNING:tensorflow:From c:\\Users\\admin\\anaconda3\\lib\\site-packages\\tensorflow\\python\\compat\\v2_compat.py:107: disable_resource_variables (from tensorflow.python.ops.variable_scope) is deprecated and will be removed in a future version.\n",
      "Instructions for updating:\n",
      "non-resource variables are not supported in the long term\n"
     ]
    }
   ],
   "source": [
    "# 2버전 대신 1버전 사용하기(실제로는 2버전 사용함)\n",
    "import tensorflow.compat.v1 as tf\n",
    "tf.disable_v2_behavior()"
   ]
  },
  {
   "cell_type": "code",
   "execution_count": 3,
   "metadata": {},
   "outputs": [
    {
     "name": "stdout",
     "output_type": "stream",
     "text": [
      "hello = Tensor(\"Const:0\", shape=(), dtype=string)\n",
      "hello session = b'Hello, Tensorflow'\n"
     ]
    }
   ],
   "source": [
    "hello = tf.constant('Hello, Tensorflow')\n",
    "print('hello =', hello)\n",
    "\n",
    "# 1버전은 session 사용해야 내용 print 됨\n",
    "sess = tf.Session()\n",
    "print('hello session =', sess.run(hello))"
   ]
  },
  {
   "cell_type": "code",
   "execution_count": 4,
   "metadata": {},
   "outputs": [
    {
     "name": "stdout",
     "output_type": "stream",
     "text": [
      "node1 = Tensor(\"Const_1:0\", shape=(), dtype=float32)\n",
      "node2 = Tensor(\"Const_2:0\", shape=(), dtype=float32)\n",
      "node3 = Tensor(\"Add:0\", shape=(), dtype=float32)\n",
      "node1, node2 session = [3.0, 4.0]\n",
      "node3 session = 7.0\n"
     ]
    }
   ],
   "source": [
    "node1 = tf.constant(3.0, tf.float32)  # data-type 생략 가능\n",
    "node2 = tf.constant(4.0)\n",
    "node3 = tf.add(node1, node2)\n",
    "\n",
    "print('node1 =', node1)\n",
    "print('node2 =', node2)\n",
    "print('node3 =', node3)\n",
    "\n",
    "sess = tf.Session()\n",
    "print('node1, node2 session =', sess.run([node1, node2]))\n",
    "print('node3 session =', sess.run(node3))"
   ]
  },
  {
   "cell_type": "code",
   "execution_count": 5,
   "metadata": {},
   "outputs": [
    {
     "name": "stdout",
     "output_type": "stream",
     "text": [
      "7.5\n",
      "[3. 7.]\n",
      "22.5\n"
     ]
    }
   ],
   "source": [
    "a = tf.placeholder(tf.float32)\n",
    "b = tf.placeholder(tf.float32)\n",
    "adder_node = a + b\n",
    "add_and_triple = adder_node * 3\n",
    "\n",
    "sess = tf.Session()\n",
    "print(sess.run(adder_node, feed_dict={a: 3, b: 4.5}))\n",
    "print(sess.run(adder_node, feed_dict={a: [1, 3], b: [2, 4]}))\n",
    "print(sess.run(add_and_triple, feed_dict={a: 3, b: 4.5}))"
   ]
  },
  {
   "cell_type": "code",
   "execution_count": 6,
   "metadata": {},
   "outputs": [],
   "source": [
    "tf.set_random_seed(777)"
   ]
  },
  {
   "cell_type": "code",
   "execution_count": 7,
   "metadata": {},
   "outputs": [],
   "source": [
    "# y = x + 1\n",
    "x_data = [1, 2, 3, 4, 5]\n",
    "t_data = [2, 3, 4, 5, 6]"
   ]
  },
  {
   "cell_type": "code",
   "execution_count": 8,
   "metadata": {},
   "outputs": [
    {
     "name": "stdout",
     "output_type": "stream",
     "text": [
      "w = <tf.Variable 'weight:0' shape=(1,) dtype=float32_ref>\n",
      "b = <tf.Variable 'bias:0' shape=(1,) dtype=float32_ref>\n"
     ]
    }
   ],
   "source": [
    "w = tf.Variable(tf.random.normal([1]), name='weight')\n",
    "b = tf.Variable(tf.random.normal([1]), name='bias')\n",
    "\n",
    "print('w =', w)\n",
    "print('b =', b)"
   ]
  },
  {
   "cell_type": "code",
   "execution_count": 9,
   "metadata": {},
   "outputs": [],
   "source": [
    "y = x_data * w + b"
   ]
  },
  {
   "cell_type": "code",
   "execution_count": 10,
   "metadata": {},
   "outputs": [],
   "source": [
    "cost = tf.reduce_mean(tf.square(y-t_data))\n",
    "train = tf.train.GradientDescentOptimizer(learning_rate=0.01).minimize(cost)"
   ]
  },
  {
   "cell_type": "code",
   "execution_count": 11,
   "metadata": {},
   "outputs": [
    {
     "name": "stdout",
     "output_type": "stream",
     "text": [
      "step = 0 , cost_val = 11.72659 , w_val = [0.8049774] , b_val = [-1.0644361]\n",
      "step = 500 , cost_val = 0.021607338 , w_val = [1.0951103] , b_val = [0.6566215]\n",
      "step = 1000 , cost_val = 0.00073076633 , w_val = [1.0174911] , b_val = [0.9368517]\n",
      "step = 1500 , cost_val = 2.471313e-05 , w_val = [1.0032166] , b_val = [0.9883871]\n",
      "step = 2000 , cost_val = 8.368479e-07 , w_val = [1.000592] , b_val = [0.9978631]\n",
      "step = 2500 , cost_val = 2.8449222e-08 , w_val = [1.0001093] , b_val = [0.999606]\n",
      "step = 3000 , cost_val = 9.665115e-10 , w_val = [1.0000201] , b_val = [0.9999273]\n",
      "step = 3500 , cost_val = 4.236327e-11 , w_val = [1.0000044] , b_val = [0.99998486]\n",
      "step = 4000 , cost_val = 2.8351366e-11 , w_val = [1.0000036] , b_val = [0.9999878]\n",
      "step = 4500 , cost_val = 2.8351366e-11 , w_val = [1.0000036] , b_val = [0.9999878]\n",
      "step = 5000 , cost_val = 2.8351366e-11 , w_val = [1.0000036] , b_val = [0.9999878]\n",
      "step = 5500 , cost_val = 2.8351366e-11 , w_val = [1.0000036] , b_val = [0.9999878]\n",
      "step = 6000 , cost_val = 2.8351366e-11 , w_val = [1.0000036] , b_val = [0.9999878]\n",
      "step = 6500 , cost_val = 2.8351366e-11 , w_val = [1.0000036] , b_val = [0.9999878]\n",
      "step = 7000 , cost_val = 2.8351366e-11 , w_val = [1.0000036] , b_val = [0.9999878]\n",
      "step = 7500 , cost_val = 2.8351366e-11 , w_val = [1.0000036] , b_val = [0.9999878]\n",
      "step = 8000 , cost_val = 2.8351366e-11 , w_val = [1.0000036] , b_val = [0.9999878]\n",
      "step = 8500 , cost_val = 2.8351366e-11 , w_val = [1.0000036] , b_val = [0.9999878]\n",
      "step = 9000 , cost_val = 2.8351366e-11 , w_val = [1.0000036] , b_val = [0.9999878]\n",
      "step = 9500 , cost_val = 2.8351366e-11 , w_val = [1.0000036] , b_val = [0.9999878]\n",
      "step = 10000 , cost_val = 2.8351366e-11 , w_val = [1.0000036] , b_val = [0.9999878]\n"
     ]
    }
   ],
   "source": [
    "with tf.Session() as sess:\n",
    "    sess.run(tf.global_variables_initializer())  # 전역변수 초기화\n",
    "    for step in range(10001):\n",
    "        _, cost_val, w_val, b_val = sess.run([train, cost, w, b])\n",
    "        if step % 500 == 0:\n",
    "            print('step =', step, ', cost_val =', cost_val,\n",
    "                  ', w_val =', w_val, ', b_val =', b_val)"
   ]
  }
 ],
 "metadata": {
  "kernelspec": {
   "display_name": "Python 3.8.8 ('base')",
   "language": "python",
   "name": "python3"
  },
  "language_info": {
   "codemirror_mode": {
    "name": "ipython",
    "version": 3
   },
   "file_extension": ".py",
   "mimetype": "text/x-python",
   "name": "python",
   "nbconvert_exporter": "python",
   "pygments_lexer": "ipython3",
   "version": "3.8.8"
  },
  "orig_nbformat": 4,
  "vscode": {
   "interpreter": {
    "hash": "610a6f344c2137faf927ea819c63f6cee33a2c04455044b28099f39fe9722347"
   }
  }
 },
 "nbformat": 4,
 "nbformat_minor": 2
}
