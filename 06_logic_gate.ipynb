{
 "cells": [
  {
   "cell_type": "code",
   "execution_count": 1,
   "id": "38704132-c632-4ddd-9996-dcafb8be6de0",
   "metadata": {},
   "outputs": [],
   "source": [
    "import numpy as np"
   ]
  },
  {
   "cell_type": "code",
   "execution_count": 2,
   "id": "a0c2a0bc-7c56-4b79-a2bf-d1267d02ea92",
   "metadata": {},
   "outputs": [],
   "source": [
    "def sigmoid(x):\n",
    "    return 1 / (1 + np.exp(-x))"
   ]
  },
  {
   "cell_type": "code",
   "execution_count": 3,
   "id": "74851b1e-3575-4aac-a904-5f2f0b5bfe8b",
   "metadata": {},
   "outputs": [],
   "source": [
    "def numerical_derivative(f, x):\n",
    "    delta_x = 1e-4\n",
    "    grad = np.zeros_like(x)\n",
    "\n",
    "    it = np.nditer(x, flags=['multi_index'], op_flags=['readwrite'])\n",
    "    while not it.finished:\n",
    "        idx = it.multi_index\n",
    "        \n",
    "        tmp_val = x[idx]\n",
    "        x[idx] = float(tmp_val) + delta_x\n",
    "        fx1 = f(x)\n",
    "        \n",
    "        x[idx] = float(tmp_val) - delta_x\n",
    "        fx2 = f(x)\n",
    "        \n",
    "        grad[idx] = (fx1 - fx2) / (2 * delta_x)\n",
    "        \n",
    "        x[idx] = tmp_val\n",
    "        it.iternext()\n",
    "\n",
    "    return grad"
   ]
  },
  {
   "cell_type": "code",
   "execution_count": 4,
   "id": "0942c094-dc20-46c8-945e-14463d37d700",
   "metadata": {},
   "outputs": [],
   "source": [
    "class LogicGate:\n",
    "    def __init__(self, gate_name, x_data, t_data):\n",
    "        self.name = gate_name\n",
    "        self.__x_data = x_data.reshape(4, 2)  # __ : java의 private 기능\n",
    "        self.__t_data = t_data.reshape(4, 1)\n",
    "\n",
    "        self.__W = np.random.rand(2, 1)\n",
    "        self.__b = np.random.rand(1)\n",
    "        self.__learning_rate = 1e-2\n",
    "\n",
    "    def __loss_func(self):\n",
    "        delta = 1e-7\n",
    "        z = np.dot(self.__x_data, self.__W) + self.__b\n",
    "        y = sigmoid(z)\n",
    "\n",
    "        return -np.sum(self.__t_data * np.log(y + delta) + (1 - self.__t_data) * np.log((1-y) + delta))\n",
    "\n",
    "    def train(self):\n",
    "        def f(x): return self.__loss_func()\n",
    "\n",
    "        print(\"initial error value =\", self.__loss_func())\n",
    "\n",
    "        for step in range(50001):\n",
    "            self.__W -= self.__learning_rate * numerical_derivative(f, self.__W)\n",
    "            self.__b -= self.__learning_rate * numerical_derivative(f, self.__b)\n",
    "\n",
    "            if step % 2500 == 0:\n",
    "                print(\"step =\", step, \", error value =\", self.__loss_func())\n",
    "\n",
    "    def predict(self, input_data):\n",
    "        z = np.dot(input_data, self.__W) + self.__b\n",
    "        y = sigmoid(z)\n",
    "\n",
    "        if y > 0.5:\n",
    "            result = 1  # True\n",
    "        else:\n",
    "            result = 0  # False\n",
    "\n",
    "        return y, result"
   ]
  },
  {
   "cell_type": "code",
   "execution_count": 5,
   "id": "df81be75-d838-4fbc-8add-3716b2810c03",
   "metadata": {},
   "outputs": [
    {
     "name": "stdout",
     "output_type": "stream",
     "text": [
      "initial error value = 3.463798559966943\n",
      "step = 0 , error value = 3.426529159251458\n",
      "step = 2500 , error value = 0.5559345545400222\n",
      "step = 5000 , error value = 0.3202614109196398\n",
      "step = 7500 , error value = 0.2230019489333946\n",
      "step = 10000 , error value = 0.1703429293105746\n",
      "step = 12500 , error value = 0.13750095748327024\n",
      "step = 15000 , error value = 0.11512951044956146\n",
      "step = 17500 , error value = 0.09894030226046917\n",
      "step = 20000 , error value = 0.08669686201119615\n",
      "step = 22500 , error value = 0.07712143459384496\n",
      "step = 25000 , error value = 0.0694322489903581\n",
      "step = 27500 , error value = 0.06312473672253074\n",
      "step = 30000 , error value = 0.05785896565449747\n",
      "step = 32500 , error value = 0.05339771088076617\n",
      "step = 35000 , error value = 0.04957047597070101\n",
      "step = 37500 , error value = 0.04625162290526124\n",
      "step = 40000 , error value = 0.043346560316405804\n",
      "step = 42500 , error value = 0.040782730770864396\n",
      "step = 45000 , error value = 0.03850356059366636\n",
      "step = 47500 , error value = 0.03646429649695099\n",
      "step = 50000 , error value = 0.03462907724757015\n"
     ]
    }
   ],
   "source": [
    "# AND_GATE training\n",
    "x_data = np.array([[0, 0], [0, 1], [1, 0], [1, 1]])\n",
    "t_data = np.array([0, 0, 0, 1])\n",
    "\n",
    "AND_obj = LogicGate(\"AND_GATE\", x_data, t_data)\n",
    "AND_obj.train()"
   ]
  },
  {
   "cell_type": "code",
   "execution_count": 8,
   "id": "2d2887b1-03b8-45c2-a8e0-70cb4bccba8d",
   "metadata": {},
   "outputs": [
    {
     "name": "stdout",
     "output_type": "stream",
     "text": [
      "AND_GATE\n",
      "[0 0] = 0\n",
      "[0 1] = 0\n",
      "[1 0] = 0\n",
      "[1 1] = 1\n"
     ]
    }
   ],
   "source": [
    "# AND_GATE prediction\n",
    "print(AND_obj.name)\n",
    "test_data = np.array([[0, 0], [0, 1], [1, 0], [1, 1]])\n",
    "for input_data in test_data:\n",
    "    (sigmoid_val, logical_val) = AND_obj.predict(input_data)\n",
    "    print(input_data, \"=\", logical_val)"
   ]
  },
  {
   "cell_type": "code",
   "execution_count": 9,
   "id": "d729219b-6a22-4586-8834-8231392400dd",
   "metadata": {},
   "outputs": [
    {
     "name": "stdout",
     "output_type": "stream",
     "text": [
      "initial error value = 1.6237929450281383\n",
      "step = 0 , error value = 1.6217998430768625\n",
      "step = 2500 , error value = 0.34750388451657915\n",
      "step = 5000 , error value = 0.18493797338547388\n",
      "step = 7500 , error value = 0.12458217682200007\n",
      "step = 10000 , error value = 0.09355128254327592\n",
      "step = 12500 , error value = 0.07475719868811997\n",
      "step = 15000 , error value = 0.06218876643507321\n",
      "step = 17500 , error value = 0.05320619269528319\n",
      "step = 20000 , error value = 0.04647298432278211\n",
      "step = 22500 , error value = 0.04124159996637751\n",
      "step = 25000 , error value = 0.03706184903653142\n",
      "step = 27500 , error value = 0.03364668803666465\n",
      "step = 30000 , error value = 0.03080458441593628\n",
      "step = 32500 , error value = 0.028402908068892882\n",
      "step = 35000 , error value = 0.026346940848279987\n",
      "step = 37500 , error value = 0.024567254271760954\n",
      "step = 40000 , error value = 0.02301180947729079\n",
      "step = 42500 , error value = 0.021640841152314228\n",
      "step = 45000 , error value = 0.020423445357659754\n",
      "step = 47500 , error value = 0.019335244568006022\n",
      "step = 50000 , error value = 0.018356753332423793\n"
     ]
    }
   ],
   "source": [
    "# OR_GATE training\n",
    "x_data = np.array([[0, 0], [0, 1], [1, 0], [1, 1]])\n",
    "t_data = np.array([0, 1, 1, 1])\n",
    "\n",
    "OR_obj = LogicGate(\"OR_GATE\", x_data, t_data)\n",
    "OR_obj.train()"
   ]
  },
  {
   "cell_type": "code",
   "execution_count": 12,
   "id": "be9960fc-1485-4401-bffd-1211571f1160",
   "metadata": {},
   "outputs": [
    {
     "name": "stdout",
     "output_type": "stream",
     "text": [
      "OR_GATE\n",
      "[0 0] = 0\n",
      "[0 1] = 1\n",
      "[1 0] = 1\n",
      "[1 1] = 1\n"
     ]
    }
   ],
   "source": [
    "# OR_GATE prediction\n",
    "print(OR_obj.name)\n",
    "test_data = np.array([[0, 0], [0, 1], [1, 0], [1, 1]])\n",
    "for input_data in test_data:\n",
    "    (sigmoid_val, logical_val) = OR_obj.predict(input_data)\n",
    "    print(input_data, \"=\", logical_val)"
   ]
  },
  {
   "cell_type": "code",
   "execution_count": 11,
   "id": "be285fc9-b71a-4abf-88ba-5473acebdc54",
   "metadata": {},
   "outputs": [
    {
     "name": "stdout",
     "output_type": "stream",
     "text": [
      "initial error value = 3.243183744263874\n",
      "step = 0 , error value = 3.2335252879872165\n",
      "step = 2500 , error value = 0.5885623488540883\n",
      "step = 5000 , error value = 0.3311981925616004\n",
      "step = 7500 , error value = 0.22837459444427663\n",
      "step = 10000 , error value = 0.1735055340476485\n",
      "step = 12500 , error value = 0.13957405851456386\n",
      "step = 15000 , error value = 0.11658916917885062\n",
      "step = 17500 , error value = 0.1000217833573587\n",
      "step = 20000 , error value = 0.08752930775069219\n",
      "step = 22500 , error value = 0.07778145017426255\n",
      "step = 25000 , error value = 0.06996807119812012\n",
      "step = 27500 , error value = 0.0635682146306413\n",
      "step = 30000 , error value = 0.05823195574603436\n",
      "step = 32500 , error value = 0.05371570052940631\n",
      "step = 35000 , error value = 0.04984474000534645\n",
      "step = 37500 , error value = 0.04649056120360641\n",
      "step = 40000 , error value = 0.04355655711745862\n",
      "step = 42500 , error value = 0.040968723710501906\n",
      "step = 45000 , error value = 0.03866942760105863\n",
      "step = 47500 , error value = 0.03661312502977243\n",
      "step = 50000 , error value = 0.034763355543014275\n"
     ]
    }
   ],
   "source": [
    "# NAND_GATE training\n",
    "x_data = np.array([[0, 0], [0, 1], [1, 0], [1, 1]])\n",
    "t_data = np.array([1, 1, 1, 0])\n",
    "\n",
    "NAND_obj = LogicGate(\"NAND_GATE\", x_data, t_data)\n",
    "NAND_obj.train()"
   ]
  },
  {
   "cell_type": "code",
   "execution_count": 13,
   "id": "f06be4b2-4cdc-471b-acb0-ee8d519097f9",
   "metadata": {},
   "outputs": [
    {
     "name": "stdout",
     "output_type": "stream",
     "text": [
      "NAND_GATE\n",
      "[0 0] = 1\n",
      "[0 1] = 1\n",
      "[1 0] = 1\n",
      "[1 1] = 0\n"
     ]
    }
   ],
   "source": [
    "# NAND_GATE prediction\n",
    "print(NAND_obj.name)\n",
    "test_data = np.array([[0, 0], [0, 1], [1, 0], [1, 1]])\n",
    "for input_data in test_data:\n",
    "    (sigmoid_val, logical_val) = NAND_obj.predict(input_data)\n",
    "    print(input_data, \"=\", logical_val)"
   ]
  },
  {
   "cell_type": "code",
   "execution_count": 14,
   "id": "c5a909d5-52f8-4bb3-9c4a-2d093e3f8989",
   "metadata": {},
   "outputs": [
    {
     "name": "stdout",
     "output_type": "stream",
     "text": [
      "initial error value = 3.727536641281123\n",
      "step = 0 , error value = 3.705701960078572\n",
      "step = 2500 , error value = 2.7725964748657645\n",
      "step = 5000 , error value = 2.772587925471889\n",
      "step = 7500 , error value = 2.7725879222410836\n",
      "step = 10000 , error value = 2.772587922239862\n",
      "step = 12500 , error value = 2.7725879222398615\n",
      "step = 15000 , error value = 2.7725879222398615\n",
      "step = 17500 , error value = 2.7725879222398615\n",
      "step = 20000 , error value = 2.7725879222398615\n",
      "step = 22500 , error value = 2.7725879222398615\n",
      "step = 25000 , error value = 2.7725879222398615\n",
      "step = 27500 , error value = 2.7725879222398615\n",
      "step = 30000 , error value = 2.7725879222398615\n",
      "step = 32500 , error value = 2.7725879222398615\n",
      "step = 35000 , error value = 2.7725879222398615\n",
      "step = 37500 , error value = 2.7725879222398615\n",
      "step = 40000 , error value = 2.7725879222398615\n",
      "step = 42500 , error value = 2.7725879222398615\n",
      "step = 45000 , error value = 2.7725879222398615\n",
      "step = 47500 , error value = 2.7725879222398615\n",
      "step = 50000 , error value = 2.7725879222398615\n"
     ]
    }
   ],
   "source": [
    "# XOR_GATE training → error value가 2.7 근처에서 변화 없음\n",
    "x_data = np.array([[0, 0], [0, 1], [1, 0], [1, 1]])\n",
    "t_data = np.array([0, 1, 1, 0])\n",
    "\n",
    "XOR_obj = LogicGate(\"XOR_GATE\", x_data, t_data)\n",
    "XOR_obj.train()"
   ]
  },
  {
   "cell_type": "code",
   "execution_count": 26,
   "id": "35467c29-69fb-409c-9616-89131f1e5ec7",
   "metadata": {},
   "outputs": [
    {
     "name": "stdout",
     "output_type": "stream",
     "text": [
      "XOR_GATE 실패\n",
      "[0 0] = 0\n",
      "[0 1] = 0\n",
      "[1 0] = 1\n",
      "[1 1] = 1\n"
     ]
    }
   ],
   "source": [
    "# XOR_GATE prediction → 불가\n",
    "print(XOR_obj.name, \"실패\")\n",
    "test_data = np.array([[0, 0], [0, 1], [1, 0], [1, 1]])\n",
    "for input_data in test_data:\n",
    "    (sigmoid_val, logical_val) = XOR_obj.predict(input_data)\n",
    "    print(input_data, \"=\", logical_val)"
   ]
  },
  {
   "cell_type": "code",
   "execution_count": 27,
   "id": "6e7beae0-fd2f-478f-9405-b0d378482b3c",
   "metadata": {},
   "outputs": [
    {
     "name": "stdout",
     "output_type": "stream",
     "text": [
      "XOR_GATE 성공\n",
      "[0 0] = 0\n",
      "[0 1] = 1\n",
      "[1 0] = 1\n",
      "[1 1] = 0\n"
     ]
    }
   ],
   "source": [
    "# XOR = NAND + OR 조합으로 계산\n",
    "s1 = []  # NAND 출력\n",
    "s2 = []  # OR 출력\n",
    "new_input_data = []  # AND 입력\n",
    "final_output = []  # AND 출력\n",
    "\n",
    "print(XOR_obj.name, \"성공\")\n",
    "input_data = np.array([[0, 0], [0, 1], [1, 0], [1, 1]])\n",
    "for index in range(len(input_data)):\n",
    "    s1 = NAND_obj.predict(input_data[index])\n",
    "    s2 = OR_obj.predict(input_data[index])\n",
    "\n",
    "    new_input_data.append(s1[-1])\n",
    "    new_input_data.append(s2[-1])\n",
    "\n",
    "    (sigmoid_val, logical_val) = AND_obj.predict(np.array(new_input_data))\n",
    "\n",
    "    final_output.append(logical_val)  # XOR 출력\n",
    "    new_input_data = []  # 초기화\n",
    "\n",
    "    print(input_data[index], \"=\", final_output[index])"
   ]
  }
 ],
 "metadata": {
  "kernelspec": {
   "display_name": "Python 3",
   "language": "python",
   "name": "python3"
  },
  "language_info": {
   "codemirror_mode": {
    "name": "ipython",
    "version": 3
   },
   "file_extension": ".py",
   "mimetype": "text/x-python",
   "name": "python",
   "nbconvert_exporter": "python",
   "pygments_lexer": "ipython3",
   "version": "3.8.8"
  },
  "vscode": {
   "interpreter": {
    "hash": "610a6f344c2137faf927ea819c63f6cee33a2c04455044b28099f39fe9722347"
   }
  }
 },
 "nbformat": 4,
 "nbformat_minor": 5
}
