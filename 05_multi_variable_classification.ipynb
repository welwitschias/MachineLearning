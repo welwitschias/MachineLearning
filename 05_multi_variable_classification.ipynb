{
 "cells": [
  {
   "cell_type": "code",
   "execution_count": 1,
   "id": "e0d35826-7143-4257-a13f-d8edccf5d0d2",
   "metadata": {},
   "outputs": [],
   "source": [
    "import numpy as np"
   ]
  },
  {
   "cell_type": "code",
   "execution_count": 2,
   "id": "ddaade6b-357e-47bc-b702-9e339df0e0e8",
   "metadata": {},
   "outputs": [],
   "source": [
    "# x_data = [예습, 복습]\n",
    "x_data = np.array([[2, 4], [4, 11], [6, 6], [8, 5], [10, 7], [12, 16], [14, 8], [16, 3], [18, 7]])\n",
    "t_data = np.array([0, 0, 0, 0, 1, 1, 1, 1, 1]).reshape(9, 1)"
   ]
  },
  {
   "cell_type": "code",
   "execution_count": 3,
   "id": "1edc624f-0a1d-41e4-a736-59a58f5b7485",
   "metadata": {},
   "outputs": [
    {
     "name": "stdout",
     "output_type": "stream",
     "text": [
      "W = [[0.05068656]\n",
      " [0.89220947]] , b = [0.23970604]\n"
     ]
    }
   ],
   "source": [
    "W = np.random.rand(2, 1)\n",
    "b = np.random.rand(1)\n",
    "print(\"W =\", W, \", b =\", b)"
   ]
  },
  {
   "cell_type": "code",
   "execution_count": 4,
   "id": "53136e06-f1b2-462f-80c8-232cdcc916e3",
   "metadata": {},
   "outputs": [],
   "source": [
    "def sigmoid(x):\n",
    "    return 1 / (1 + np.exp(-x))"
   ]
  },
  {
   "cell_type": "code",
   "execution_count": 5,
   "id": "0ac951fd-1c83-41ae-9047-3368cbea2ffb",
   "metadata": {},
   "outputs": [],
   "source": [
    "def loss_func(x, t):\n",
    "    delta = 1e-7  # log 무한대 발산 방지\n",
    "    z = np.dot(x, W) + b\n",
    "    y = sigmoid(z)\n",
    "    return -np.sum(t * np.log(y + delta) + (1-t) * np.log((1-y) + delta))"
   ]
  },
  {
   "cell_type": "code",
   "execution_count": 6,
   "id": "cf2d32b0-a089-4294-a33f-870d7a896648",
   "metadata": {},
   "outputs": [],
   "source": [
    "def numerical_derivative(f, x):\n",
    "    delta_x = 1e-4\n",
    "    grad = np.zeros_like(x)\n",
    "\n",
    "    it = np.nditer(x, flags=['multi_index'], op_flags=['readwrite'])\n",
    "    while not it.finished:\n",
    "        idx = it.multi_index\n",
    "        \n",
    "        tmp_val = x[idx]\n",
    "        x[idx] = float(tmp_val) + delta_x\n",
    "        fx1 = f(x)\n",
    "        \n",
    "        x[idx] = float(tmp_val) - delta_x\n",
    "        fx2 = f(x)\n",
    "        \n",
    "        grad[idx] = (fx1 - fx2) / (2 * delta_x)\n",
    "        \n",
    "        x[idx] = tmp_val\n",
    "        it.iternext()\n",
    "\n",
    "    return grad"
   ]
  },
  {
   "cell_type": "code",
   "execution_count": 7,
   "id": "92154ccd-bf3b-406d-bfb2-c251d136e563",
   "metadata": {},
   "outputs": [],
   "source": [
    "def predict(x):\n",
    "    z = np.dot(x, W) + b\n",
    "    y = sigmoid(z)\n",
    "\n",
    "    if y > 0.5:\n",
    "        result = 1  # True\n",
    "    else:\n",
    "        result = 0  # False\n",
    "\n",
    "    return y, result"
   ]
  },
  {
   "cell_type": "code",
   "execution_count": 16,
   "id": "da5c243c-6191-4158-9c25-2dc7e5889a81",
   "metadata": {},
   "outputs": [
    {
     "name": "stdout",
     "output_type": "stream",
     "text": [
      "initial error value = 0.23268539700706586 , initial W = [[1.60103835]\n",
      " [0.56512016]] , initial b = [-17.72192519]\n",
      "step = 0 , error value = 0.23268531172254114 , W = [[1.60103856]\n",
      " [0.56512033]] , b = [-17.7219281]\n",
      "step = 2500 , error value = 0.23247229244933063 , W = [[1.60157119]\n",
      " [0.56553371]] , b = [-17.72919455]\n",
      "step = 5000 , error value = 0.2322596564109463 , W = [[1.60210336]\n",
      " [0.5659467 ]] , b = [-17.73645446]\n",
      "step = 7500 , error value = 0.23204740257903392 , W = [[1.60263507]\n",
      " [0.56635928]] , b = [-17.74370784]\n",
      "step = 10000 , error value = 0.23183552992893253 , W = [[1.60316633]\n",
      " [0.56677145]] , b = [-17.75095471]\n",
      "step = 12500 , error value = 0.23162403743966362 , W = [[1.60369713]\n",
      " [0.56718322]] , b = [-17.75819507]\n",
      "step = 15000 , error value = 0.23141292409391995 , W = [[1.60422748]\n",
      " [0.56759459]] , b = [-17.76542894]\n",
      "step = 17500 , error value = 0.2312021888780453 , W = [[1.60475738]\n",
      " [0.56800556]] , b = [-17.77265633]\n",
      "step = 20000 , error value = 0.23099183078201216 , W = [[1.60528683]\n",
      " [0.56841613]] , b = [-17.77987725]\n",
      "step = 22500 , error value = 0.2307818487994145 , W = [[1.60581582]\n",
      " [0.5688263 ]] , b = [-17.78709171]\n",
      "step = 25000 , error value = 0.23057224192744544 , W = [[1.60634436]\n",
      " [0.56923608]] , b = [-17.79429972]\n",
      "step = 27500 , error value = 0.23036300916688238 , W = [[1.60687245]\n",
      " [0.56964545]] , b = [-17.8015013]\n",
      "step = 30000 , error value = 0.23015414952207122 , W = [[1.60740009]\n",
      " [0.57005443]] , b = [-17.80869646]\n",
      "step = 32500 , error value = 0.22994566200090988 , W = [[1.60792728]\n",
      " [0.57046301]] , b = [-17.8158852]\n",
      "step = 35000 , error value = 0.22973754561483273 , W = [[1.60845403]\n",
      " [0.57087119]] , b = [-17.82306754]\n",
      "step = 37500 , error value = 0.2295297993787897 , W = [[1.60898033]\n",
      " [0.57127898]] , b = [-17.83024349]\n",
      "step = 40000 , error value = 0.22932242231123465 , W = [[1.60950618]\n",
      " [0.57168637]] , b = [-17.83741307]\n",
      "step = 42500 , error value = 0.22911541343411765 , W = [[1.61003158]\n",
      " [0.57209337]] , b = [-17.84457627]\n",
      "step = 45000 , error value = 0.22890877177285282 , W = [[1.61055654]\n",
      " [0.57249998]] , b = [-17.85173312]\n",
      "step = 47500 , error value = 0.2287024963563097 , W = [[1.61108106]\n",
      " [0.5729062 ]] , b = [-17.85888363]\n",
      "step = 50000 , error value = 0.22849658621680174 , W = [[1.61160513]\n",
      " [0.57331202]] , b = [-17.8660278]\n"
     ]
    }
   ],
   "source": [
    "learning_rate = 1e-4  # 발산 정도에 따라 3~6 사이 적절하게 조절\n",
    "def f(x): return loss_func(x_data, t_data)\n",
    "\n",
    "\n",
    "print(\"initial error value =\", loss_func(x_data, t_data),\n",
    "      \", initial W =\", W, \", initial b =\", b)\n",
    "\n",
    "for step in range(50001):\n",
    "    W -= learning_rate * numerical_derivative(f, W)\n",
    "    b -= learning_rate * numerical_derivative(f, b)\n",
    "\n",
    "    if step % 2500 == 0:\n",
    "        print(\"step =\", step, \", error value =\", loss_func(x_data, t_data),\n",
    "              \", W =\", W, \", b =\", b)"
   ]
  },
  {
   "cell_type": "code",
   "execution_count": 12,
   "id": "c2d767a8-32a0-4473-ad1f-796646d473c7",
   "metadata": {},
   "outputs": [
    {
     "name": "stdout",
     "output_type": "stream",
     "text": [
      "real_val = [0.50021194] , logical_val = 1\n"
     ]
    }
   ],
   "source": [
    "# (real_val, logical_val) = predict([10, 3])\n",
    "# print(\"real_val =\", real_val, \", logical_val =\", logical_val)"
   ]
  },
  {
   "cell_type": "code",
   "execution_count": 17,
   "id": "6c9a2a43-8f37-41c7-9aab-288184c5b094",
   "metadata": {},
   "outputs": [
    {
     "data": {
      "text/plain": [
       "(array([0.51956264]), 1)"
      ]
     },
     "execution_count": 17,
     "metadata": {},
     "output_type": "execute_result"
    }
   ],
   "source": [
    "test_data = np.array([9, 6])\n",
    "predict(test_data)"
   ]
  }
 ],
 "metadata": {
  "kernelspec": {
   "display_name": "Python 3",
   "language": "python",
   "name": "python3"
  },
  "language_info": {
   "codemirror_mode": {
    "name": "ipython",
    "version": 3
   },
   "file_extension": ".py",
   "mimetype": "text/x-python",
   "name": "python",
   "nbconvert_exporter": "python",
   "pygments_lexer": "ipython3",
   "version": "3.8.8"
  },
  "vscode": {
   "interpreter": {
    "hash": "610a6f344c2137faf927ea819c63f6cee33a2c04455044b28099f39fe9722347"
   }
  }
 },
 "nbformat": 4,
 "nbformat_minor": 5
}
